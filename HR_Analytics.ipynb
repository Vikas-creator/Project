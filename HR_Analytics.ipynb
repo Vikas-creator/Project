{
 "cells": [
  {
   "cell_type": "markdown",
   "metadata": {},
   "source": [
    "# LOADING THE LIBRARIES"
   ]
  },
  {
   "cell_type": "code",
   "execution_count": 81,
   "metadata": {},
   "outputs": [],
   "source": [
    "import pandas as pd\n",
    "import numpy as np\n",
    "import matplotlib.pyplot as plt\n",
    "%matplotlib inline\n",
    "plt.rcParams['figure.figsize'] = [14,8]\n",
    "import seaborn as sns\n",
    "from sklearn.preprocessing import StandardScaler\n",
    "from xgboost import XGBClassifier as clf\n",
    "from sklearn.model_selection import RandomizedSearchCV, cross_val_score\n",
    "from joblib import load, dump\n",
    "from tensorflow.keras.models import Sequential\n",
    "from tensorflow.keras.layers import Dense\n",
    "from tensorflow.keras.wrappers.scikit_learn import KerasClassifier\n",
    "from tensorflow.keras import metrics as mt\n",
    "from tensorflow.keras import losses, activations, optimizers\n",
    "from hyperopt import tpe, hp, fmin, space_eval, Trials\n",
    "from hyperopt.pyll import scope as hpScope\n",
    "from hyperopt.pyll.stochastic import sample as hpSample"
   ]
  },
  {
   "cell_type": "markdown",
   "metadata": {},
   "source": [
    "## **1 IMPORTING THE DATASETS**"
   ]
  },
  {
   "cell_type": "code",
   "execution_count": 82,
   "metadata": {},
   "outputs": [],
   "source": [
    "train = pd.read_csv('train.csv')\n",
    "nTrain = train.copy()\n",
    "test = pd.read_csv('test.csv')\n",
    "nTest = test.copy()"
   ]
  },
  {
   "cell_type": "markdown",
   "metadata": {},
   "source": [
    "## **2 EXPLORING THE DATASETS**"
   ]
  },
  {
   "cell_type": "code",
   "execution_count": 83,
   "metadata": {},
   "outputs": [
    {
     "data": {
      "text/html": [
       "<div>\n",
       "<style scoped>\n",
       "    .dataframe tbody tr th:only-of-type {\n",
       "        vertical-align: middle;\n",
       "    }\n",
       "\n",
       "    .dataframe tbody tr th {\n",
       "        vertical-align: top;\n",
       "    }\n",
       "\n",
       "    .dataframe thead th {\n",
       "        text-align: right;\n",
       "    }\n",
       "</style>\n",
       "<table border=\"1\" class=\"dataframe\">\n",
       "  <thead>\n",
       "    <tr style=\"text-align: right;\">\n",
       "      <th></th>\n",
       "      <th>employee_id</th>\n",
       "      <th>department</th>\n",
       "      <th>region</th>\n",
       "      <th>education</th>\n",
       "      <th>gender</th>\n",
       "      <th>recruitment_channel</th>\n",
       "      <th>no_of_trainings</th>\n",
       "      <th>age</th>\n",
       "      <th>previous_year_rating</th>\n",
       "      <th>length_of_service</th>\n",
       "      <th>KPIs_met &gt;80%</th>\n",
       "      <th>awards_won?</th>\n",
       "      <th>avg_training_score</th>\n",
       "      <th>is_promoted</th>\n",
       "    </tr>\n",
       "  </thead>\n",
       "  <tbody>\n",
       "    <tr>\n",
       "      <th>0</th>\n",
       "      <td>65438</td>\n",
       "      <td>Sales &amp; Marketing</td>\n",
       "      <td>region_7</td>\n",
       "      <td>Master's &amp; above</td>\n",
       "      <td>f</td>\n",
       "      <td>sourcing</td>\n",
       "      <td>1.0</td>\n",
       "      <td>35.0</td>\n",
       "      <td>5.0</td>\n",
       "      <td>8.0</td>\n",
       "      <td>1.0</td>\n",
       "      <td>0.0</td>\n",
       "      <td>49.0</td>\n",
       "      <td>0.0</td>\n",
       "    </tr>\n",
       "    <tr>\n",
       "      <th>1</th>\n",
       "      <td>65141</td>\n",
       "      <td>Operations</td>\n",
       "      <td>region_22</td>\n",
       "      <td>Bachelor's</td>\n",
       "      <td>m</td>\n",
       "      <td>other</td>\n",
       "      <td>1.0</td>\n",
       "      <td>30.0</td>\n",
       "      <td>5.0</td>\n",
       "      <td>4.0</td>\n",
       "      <td>0.0</td>\n",
       "      <td>0.0</td>\n",
       "      <td>60.0</td>\n",
       "      <td>0.0</td>\n",
       "    </tr>\n",
       "  </tbody>\n",
       "</table>\n",
       "</div>"
      ],
      "text/plain": [
       "   employee_id         department     region         education gender  \\\n",
       "0        65438  Sales & Marketing   region_7  Master's & above      f   \n",
       "1        65141         Operations  region_22        Bachelor's      m   \n",
       "\n",
       "  recruitment_channel  no_of_trainings   age  previous_year_rating  \\\n",
       "0            sourcing              1.0  35.0                   5.0   \n",
       "1               other              1.0  30.0                   5.0   \n",
       "\n",
       "   length_of_service  KPIs_met >80%  awards_won?  avg_training_score  \\\n",
       "0                8.0            1.0          0.0                49.0   \n",
       "1                4.0            0.0          0.0                60.0   \n",
       "\n",
       "   is_promoted  \n",
       "0          0.0  \n",
       "1          0.0  "
      ]
     },
     "execution_count": 83,
     "metadata": {},
     "output_type": "execute_result"
    }
   ],
   "source": [
    "train.head(2)"
   ]
  },
  {
   "cell_type": "code",
   "execution_count": 84,
   "metadata": {},
   "outputs": [
    {
     "data": {
      "text/html": [
       "<div>\n",
       "<style scoped>\n",
       "    .dataframe tbody tr th:only-of-type {\n",
       "        vertical-align: middle;\n",
       "    }\n",
       "\n",
       "    .dataframe tbody tr th {\n",
       "        vertical-align: top;\n",
       "    }\n",
       "\n",
       "    .dataframe thead th {\n",
       "        text-align: right;\n",
       "    }\n",
       "</style>\n",
       "<table border=\"1\" class=\"dataframe\">\n",
       "  <thead>\n",
       "    <tr style=\"text-align: right;\">\n",
       "      <th></th>\n",
       "      <th>employee_id</th>\n",
       "      <th>department</th>\n",
       "      <th>region</th>\n",
       "      <th>education</th>\n",
       "      <th>gender</th>\n",
       "      <th>recruitment_channel</th>\n",
       "      <th>no_of_trainings</th>\n",
       "      <th>age</th>\n",
       "      <th>previous_year_rating</th>\n",
       "      <th>length_of_service</th>\n",
       "      <th>KPIs_met &gt;80%</th>\n",
       "      <th>awards_won?</th>\n",
       "      <th>avg_training_score</th>\n",
       "    </tr>\n",
       "  </thead>\n",
       "  <tbody>\n",
       "    <tr>\n",
       "      <th>0</th>\n",
       "      <td>8724</td>\n",
       "      <td>Technology</td>\n",
       "      <td>region_26</td>\n",
       "      <td>Bachelor's</td>\n",
       "      <td>m</td>\n",
       "      <td>sourcing</td>\n",
       "      <td>1</td>\n",
       "      <td>24</td>\n",
       "      <td>NaN</td>\n",
       "      <td>1</td>\n",
       "      <td>1</td>\n",
       "      <td>0</td>\n",
       "      <td>77</td>\n",
       "    </tr>\n",
       "    <tr>\n",
       "      <th>1</th>\n",
       "      <td>74430</td>\n",
       "      <td>HR</td>\n",
       "      <td>region_4</td>\n",
       "      <td>Bachelor's</td>\n",
       "      <td>f</td>\n",
       "      <td>other</td>\n",
       "      <td>1</td>\n",
       "      <td>31</td>\n",
       "      <td>3.0</td>\n",
       "      <td>5</td>\n",
       "      <td>0</td>\n",
       "      <td>0</td>\n",
       "      <td>51</td>\n",
       "    </tr>\n",
       "  </tbody>\n",
       "</table>\n",
       "</div>"
      ],
      "text/plain": [
       "   employee_id  department     region   education gender recruitment_channel  \\\n",
       "0         8724  Technology  region_26  Bachelor's      m            sourcing   \n",
       "1        74430          HR   region_4  Bachelor's      f               other   \n",
       "\n",
       "   no_of_trainings  age  previous_year_rating  length_of_service  \\\n",
       "0                1   24                   NaN                  1   \n",
       "1                1   31                   3.0                  5   \n",
       "\n",
       "   KPIs_met >80%  awards_won?  avg_training_score  \n",
       "0              1            0                  77  \n",
       "1              0            0                  51  "
      ]
     },
     "execution_count": 84,
     "metadata": {},
     "output_type": "execute_result"
    }
   ],
   "source": [
    "test.head(2)"
   ]
  },
  {
   "cell_type": "code",
   "execution_count": 85,
   "metadata": {},
   "outputs": [
    {
     "name": "stdout",
     "output_type": "stream",
     "text": [
      "<class 'pandas.core.frame.DataFrame'>\n",
      "RangeIndex: 45869 entries, 0 to 45868\n",
      "Data columns (total 14 columns):\n",
      "employee_id             45869 non-null int64\n",
      "department              45869 non-null object\n",
      "region                  45868 non-null object\n",
      "education               43839 non-null object\n",
      "gender                  45868 non-null object\n",
      "recruitment_channel     45868 non-null object\n",
      "no_of_trainings         45868 non-null float64\n",
      "age                     45868 non-null float64\n",
      "previous_year_rating    42390 non-null float64\n",
      "length_of_service       45868 non-null float64\n",
      "KPIs_met >80%           45868 non-null float64\n",
      "awards_won?             45868 non-null float64\n",
      "avg_training_score      45868 non-null float64\n",
      "is_promoted             45868 non-null float64\n",
      "dtypes: float64(8), int64(1), object(5)\n",
      "memory usage: 4.9+ MB\n"
     ]
    }
   ],
   "source": [
    "train.info()"
   ]
  },
  {
   "cell_type": "code",
   "execution_count": 86,
   "metadata": {},
   "outputs": [
    {
     "name": "stdout",
     "output_type": "stream",
     "text": [
      "<class 'pandas.core.frame.DataFrame'>\n",
      "RangeIndex: 23490 entries, 0 to 23489\n",
      "Data columns (total 13 columns):\n",
      "employee_id             23490 non-null int64\n",
      "department              23490 non-null object\n",
      "region                  23490 non-null object\n",
      "education               22456 non-null object\n",
      "gender                  23490 non-null object\n",
      "recruitment_channel     23490 non-null object\n",
      "no_of_trainings         23490 non-null int64\n",
      "age                     23490 non-null int64\n",
      "previous_year_rating    21678 non-null float64\n",
      "length_of_service       23490 non-null int64\n",
      "KPIs_met >80%           23490 non-null int64\n",
      "awards_won?             23490 non-null int64\n",
      "avg_training_score      23490 non-null int64\n",
      "dtypes: float64(1), int64(7), object(5)\n",
      "memory usage: 2.3+ MB\n"
     ]
    }
   ],
   "source": [
    "test.info()"
   ]
  },
  {
   "cell_type": "code",
   "execution_count": 87,
   "metadata": {},
   "outputs": [
    {
     "data": {
      "text/html": [
       "<div>\n",
       "<style scoped>\n",
       "    .dataframe tbody tr th:only-of-type {\n",
       "        vertical-align: middle;\n",
       "    }\n",
       "\n",
       "    .dataframe tbody tr th {\n",
       "        vertical-align: top;\n",
       "    }\n",
       "\n",
       "    .dataframe thead th {\n",
       "        text-align: right;\n",
       "    }\n",
       "</style>\n",
       "<table border=\"1\" class=\"dataframe\">\n",
       "  <thead>\n",
       "    <tr style=\"text-align: right;\">\n",
       "      <th></th>\n",
       "      <th>department</th>\n",
       "      <th>region</th>\n",
       "      <th>education</th>\n",
       "      <th>gender</th>\n",
       "      <th>recruitment_channel</th>\n",
       "    </tr>\n",
       "  </thead>\n",
       "  <tbody>\n",
       "    <tr>\n",
       "      <th>count</th>\n",
       "      <td>45869</td>\n",
       "      <td>45868</td>\n",
       "      <td>43839</td>\n",
       "      <td>45868</td>\n",
       "      <td>45868</td>\n",
       "    </tr>\n",
       "    <tr>\n",
       "      <th>unique</th>\n",
       "      <td>10</td>\n",
       "      <td>34</td>\n",
       "      <td>3</td>\n",
       "      <td>2</td>\n",
       "      <td>3</td>\n",
       "    </tr>\n",
       "    <tr>\n",
       "      <th>top</th>\n",
       "      <td>Sales &amp; Marketing</td>\n",
       "      <td>region_2</td>\n",
       "      <td>Bachelor's</td>\n",
       "      <td>m</td>\n",
       "      <td>other</td>\n",
       "    </tr>\n",
       "    <tr>\n",
       "      <th>freq</th>\n",
       "      <td>14063</td>\n",
       "      <td>10290</td>\n",
       "      <td>30687</td>\n",
       "      <td>32212</td>\n",
       "      <td>25485</td>\n",
       "    </tr>\n",
       "  </tbody>\n",
       "</table>\n",
       "</div>"
      ],
      "text/plain": [
       "               department    region   education gender recruitment_channel\n",
       "count               45869     45868       43839  45868               45868\n",
       "unique                 10        34           3      2                   3\n",
       "top     Sales & Marketing  region_2  Bachelor's      m               other\n",
       "freq                14063     10290       30687  32212               25485"
      ]
     },
     "execution_count": 87,
     "metadata": {},
     "output_type": "execute_result"
    }
   ],
   "source": [
    "nTrain.describe(exclude='number')"
   ]
  },
  {
   "cell_type": "code",
   "execution_count": 88,
   "metadata": {},
   "outputs": [
    {
     "data": {
      "text/html": [
       "<div>\n",
       "<style scoped>\n",
       "    .dataframe tbody tr th:only-of-type {\n",
       "        vertical-align: middle;\n",
       "    }\n",
       "\n",
       "    .dataframe tbody tr th {\n",
       "        vertical-align: top;\n",
       "    }\n",
       "\n",
       "    .dataframe thead th {\n",
       "        text-align: right;\n",
       "    }\n",
       "</style>\n",
       "<table border=\"1\" class=\"dataframe\">\n",
       "  <thead>\n",
       "    <tr style=\"text-align: right;\">\n",
       "      <th></th>\n",
       "      <th>department</th>\n",
       "      <th>region</th>\n",
       "      <th>education</th>\n",
       "      <th>gender</th>\n",
       "      <th>recruitment_channel</th>\n",
       "    </tr>\n",
       "  </thead>\n",
       "  <tbody>\n",
       "    <tr>\n",
       "      <th>count</th>\n",
       "      <td>23490</td>\n",
       "      <td>23490</td>\n",
       "      <td>22456</td>\n",
       "      <td>23490</td>\n",
       "      <td>23490</td>\n",
       "    </tr>\n",
       "    <tr>\n",
       "      <th>unique</th>\n",
       "      <td>9</td>\n",
       "      <td>34</td>\n",
       "      <td>3</td>\n",
       "      <td>2</td>\n",
       "      <td>3</td>\n",
       "    </tr>\n",
       "    <tr>\n",
       "      <th>top</th>\n",
       "      <td>Sales &amp; Marketing</td>\n",
       "      <td>region_2</td>\n",
       "      <td>Bachelor's</td>\n",
       "      <td>m</td>\n",
       "      <td>other</td>\n",
       "    </tr>\n",
       "    <tr>\n",
       "      <th>freq</th>\n",
       "      <td>7315</td>\n",
       "      <td>5299</td>\n",
       "      <td>15578</td>\n",
       "      <td>16596</td>\n",
       "      <td>13078</td>\n",
       "    </tr>\n",
       "  </tbody>\n",
       "</table>\n",
       "</div>"
      ],
      "text/plain": [
       "               department    region   education gender recruitment_channel\n",
       "count               23490     23490       22456  23490               23490\n",
       "unique                  9        34           3      2                   3\n",
       "top     Sales & Marketing  region_2  Bachelor's      m               other\n",
       "freq                 7315      5299       15578  16596               13078"
      ]
     },
     "execution_count": 88,
     "metadata": {},
     "output_type": "execute_result"
    }
   ],
   "source": [
    "nTest.describe(exclude='number')"
   ]
  },
  {
   "cell_type": "code",
   "execution_count": 89,
   "metadata": {},
   "outputs": [
    {
     "data": {
      "text/html": [
       "<div>\n",
       "<style scoped>\n",
       "    .dataframe tbody tr th:only-of-type {\n",
       "        vertical-align: middle;\n",
       "    }\n",
       "\n",
       "    .dataframe tbody tr th {\n",
       "        vertical-align: top;\n",
       "    }\n",
       "\n",
       "    .dataframe thead th {\n",
       "        text-align: right;\n",
       "    }\n",
       "</style>\n",
       "<table border=\"1\" class=\"dataframe\">\n",
       "  <thead>\n",
       "    <tr style=\"text-align: right;\">\n",
       "      <th></th>\n",
       "      <th>employee_id</th>\n",
       "      <th>no_of_trainings</th>\n",
       "      <th>age</th>\n",
       "      <th>previous_year_rating</th>\n",
       "      <th>length_of_service</th>\n",
       "      <th>KPIs_met &gt;80%</th>\n",
       "      <th>awards_won?</th>\n",
       "      <th>avg_training_score</th>\n",
       "      <th>is_promoted</th>\n",
       "    </tr>\n",
       "  </thead>\n",
       "  <tbody>\n",
       "    <tr>\n",
       "      <th>count</th>\n",
       "      <td>45869.000000</td>\n",
       "      <td>45868.000000</td>\n",
       "      <td>45868.000000</td>\n",
       "      <td>42390.000000</td>\n",
       "      <td>45868.000000</td>\n",
       "      <td>45868.000000</td>\n",
       "      <td>45868.000000</td>\n",
       "      <td>45868.000000</td>\n",
       "      <td>45868.000000</td>\n",
       "    </tr>\n",
       "    <tr>\n",
       "      <th>mean</th>\n",
       "      <td>39172.131265</td>\n",
       "      <td>1.251897</td>\n",
       "      <td>34.800580</td>\n",
       "      <td>3.330880</td>\n",
       "      <td>5.861516</td>\n",
       "      <td>0.352686</td>\n",
       "      <td>0.023066</td>\n",
       "      <td>63.412706</td>\n",
       "      <td>0.085092</td>\n",
       "    </tr>\n",
       "    <tr>\n",
       "      <th>std</th>\n",
       "      <td>22579.916045</td>\n",
       "      <td>0.607466</td>\n",
       "      <td>7.648853</td>\n",
       "      <td>1.262715</td>\n",
       "      <td>4.277540</td>\n",
       "      <td>0.477811</td>\n",
       "      <td>0.150115</td>\n",
       "      <td>13.371145</td>\n",
       "      <td>0.279022</td>\n",
       "    </tr>\n",
       "    <tr>\n",
       "      <th>min</th>\n",
       "      <td>2.000000</td>\n",
       "      <td>1.000000</td>\n",
       "      <td>20.000000</td>\n",
       "      <td>1.000000</td>\n",
       "      <td>1.000000</td>\n",
       "      <td>0.000000</td>\n",
       "      <td>0.000000</td>\n",
       "      <td>39.000000</td>\n",
       "      <td>0.000000</td>\n",
       "    </tr>\n",
       "    <tr>\n",
       "      <th>25%</th>\n",
       "      <td>19659.000000</td>\n",
       "      <td>1.000000</td>\n",
       "      <td>29.000000</td>\n",
       "      <td>3.000000</td>\n",
       "      <td>3.000000</td>\n",
       "      <td>0.000000</td>\n",
       "      <td>0.000000</td>\n",
       "      <td>51.000000</td>\n",
       "      <td>0.000000</td>\n",
       "    </tr>\n",
       "    <tr>\n",
       "      <th>50%</th>\n",
       "      <td>39175.000000</td>\n",
       "      <td>1.000000</td>\n",
       "      <td>33.000000</td>\n",
       "      <td>3.000000</td>\n",
       "      <td>5.000000</td>\n",
       "      <td>0.000000</td>\n",
       "      <td>0.000000</td>\n",
       "      <td>60.000000</td>\n",
       "      <td>0.000000</td>\n",
       "    </tr>\n",
       "    <tr>\n",
       "      <th>75%</th>\n",
       "      <td>58715.000000</td>\n",
       "      <td>1.000000</td>\n",
       "      <td>39.000000</td>\n",
       "      <td>4.000000</td>\n",
       "      <td>7.000000</td>\n",
       "      <td>1.000000</td>\n",
       "      <td>0.000000</td>\n",
       "      <td>76.000000</td>\n",
       "      <td>0.000000</td>\n",
       "    </tr>\n",
       "    <tr>\n",
       "      <th>max</th>\n",
       "      <td>78297.000000</td>\n",
       "      <td>10.000000</td>\n",
       "      <td>60.000000</td>\n",
       "      <td>5.000000</td>\n",
       "      <td>37.000000</td>\n",
       "      <td>1.000000</td>\n",
       "      <td>1.000000</td>\n",
       "      <td>99.000000</td>\n",
       "      <td>1.000000</td>\n",
       "    </tr>\n",
       "  </tbody>\n",
       "</table>\n",
       "</div>"
      ],
      "text/plain": [
       "        employee_id  no_of_trainings           age  previous_year_rating  \\\n",
       "count  45869.000000     45868.000000  45868.000000          42390.000000   \n",
       "mean   39172.131265         1.251897     34.800580              3.330880   \n",
       "std    22579.916045         0.607466      7.648853              1.262715   \n",
       "min        2.000000         1.000000     20.000000              1.000000   \n",
       "25%    19659.000000         1.000000     29.000000              3.000000   \n",
       "50%    39175.000000         1.000000     33.000000              3.000000   \n",
       "75%    58715.000000         1.000000     39.000000              4.000000   \n",
       "max    78297.000000        10.000000     60.000000              5.000000   \n",
       "\n",
       "       length_of_service  KPIs_met >80%   awards_won?  avg_training_score  \\\n",
       "count       45868.000000   45868.000000  45868.000000        45868.000000   \n",
       "mean            5.861516       0.352686      0.023066           63.412706   \n",
       "std             4.277540       0.477811      0.150115           13.371145   \n",
       "min             1.000000       0.000000      0.000000           39.000000   \n",
       "25%             3.000000       0.000000      0.000000           51.000000   \n",
       "50%             5.000000       0.000000      0.000000           60.000000   \n",
       "75%             7.000000       1.000000      0.000000           76.000000   \n",
       "max            37.000000       1.000000      1.000000           99.000000   \n",
       "\n",
       "        is_promoted  \n",
       "count  45868.000000  \n",
       "mean       0.085092  \n",
       "std        0.279022  \n",
       "min        0.000000  \n",
       "25%        0.000000  \n",
       "50%        0.000000  \n",
       "75%        0.000000  \n",
       "max        1.000000  "
      ]
     },
     "execution_count": 89,
     "metadata": {},
     "output_type": "execute_result"
    }
   ],
   "source": [
    "nTrain.describe()"
   ]
  },
  {
   "cell_type": "code",
   "execution_count": 90,
   "metadata": {},
   "outputs": [
    {
     "data": {
      "text/html": [
       "<div>\n",
       "<style scoped>\n",
       "    .dataframe tbody tr th:only-of-type {\n",
       "        vertical-align: middle;\n",
       "    }\n",
       "\n",
       "    .dataframe tbody tr th {\n",
       "        vertical-align: top;\n",
       "    }\n",
       "\n",
       "    .dataframe thead th {\n",
       "        text-align: right;\n",
       "    }\n",
       "</style>\n",
       "<table border=\"1\" class=\"dataframe\">\n",
       "  <thead>\n",
       "    <tr style=\"text-align: right;\">\n",
       "      <th></th>\n",
       "      <th>employee_id</th>\n",
       "      <th>no_of_trainings</th>\n",
       "      <th>age</th>\n",
       "      <th>previous_year_rating</th>\n",
       "      <th>length_of_service</th>\n",
       "      <th>KPIs_met &gt;80%</th>\n",
       "      <th>awards_won?</th>\n",
       "      <th>avg_training_score</th>\n",
       "    </tr>\n",
       "  </thead>\n",
       "  <tbody>\n",
       "    <tr>\n",
       "      <th>count</th>\n",
       "      <td>23490.000000</td>\n",
       "      <td>23490.000000</td>\n",
       "      <td>23490.000000</td>\n",
       "      <td>21678.000000</td>\n",
       "      <td>23490.000000</td>\n",
       "      <td>23490.000000</td>\n",
       "      <td>23490.000000</td>\n",
       "      <td>23490.000000</td>\n",
       "    </tr>\n",
       "    <tr>\n",
       "      <th>mean</th>\n",
       "      <td>39041.399149</td>\n",
       "      <td>1.254236</td>\n",
       "      <td>34.782929</td>\n",
       "      <td>3.339146</td>\n",
       "      <td>5.810387</td>\n",
       "      <td>0.358834</td>\n",
       "      <td>0.022776</td>\n",
       "      <td>63.263133</td>\n",
       "    </tr>\n",
       "    <tr>\n",
       "      <th>std</th>\n",
       "      <td>22640.809201</td>\n",
       "      <td>0.600910</td>\n",
       "      <td>7.679492</td>\n",
       "      <td>1.263294</td>\n",
       "      <td>4.207917</td>\n",
       "      <td>0.479668</td>\n",
       "      <td>0.149191</td>\n",
       "      <td>13.411750</td>\n",
       "    </tr>\n",
       "    <tr>\n",
       "      <th>min</th>\n",
       "      <td>3.000000</td>\n",
       "      <td>1.000000</td>\n",
       "      <td>20.000000</td>\n",
       "      <td>1.000000</td>\n",
       "      <td>1.000000</td>\n",
       "      <td>0.000000</td>\n",
       "      <td>0.000000</td>\n",
       "      <td>39.000000</td>\n",
       "    </tr>\n",
       "    <tr>\n",
       "      <th>25%</th>\n",
       "      <td>19370.250000</td>\n",
       "      <td>1.000000</td>\n",
       "      <td>29.000000</td>\n",
       "      <td>3.000000</td>\n",
       "      <td>3.000000</td>\n",
       "      <td>0.000000</td>\n",
       "      <td>0.000000</td>\n",
       "      <td>51.000000</td>\n",
       "    </tr>\n",
       "    <tr>\n",
       "      <th>50%</th>\n",
       "      <td>38963.500000</td>\n",
       "      <td>1.000000</td>\n",
       "      <td>33.000000</td>\n",
       "      <td>3.000000</td>\n",
       "      <td>5.000000</td>\n",
       "      <td>0.000000</td>\n",
       "      <td>0.000000</td>\n",
       "      <td>60.000000</td>\n",
       "    </tr>\n",
       "    <tr>\n",
       "      <th>75%</th>\n",
       "      <td>58690.000000</td>\n",
       "      <td>1.000000</td>\n",
       "      <td>39.000000</td>\n",
       "      <td>4.000000</td>\n",
       "      <td>7.000000</td>\n",
       "      <td>1.000000</td>\n",
       "      <td>0.000000</td>\n",
       "      <td>76.000000</td>\n",
       "    </tr>\n",
       "    <tr>\n",
       "      <th>max</th>\n",
       "      <td>78295.000000</td>\n",
       "      <td>9.000000</td>\n",
       "      <td>60.000000</td>\n",
       "      <td>5.000000</td>\n",
       "      <td>34.000000</td>\n",
       "      <td>1.000000</td>\n",
       "      <td>1.000000</td>\n",
       "      <td>99.000000</td>\n",
       "    </tr>\n",
       "  </tbody>\n",
       "</table>\n",
       "</div>"
      ],
      "text/plain": [
       "        employee_id  no_of_trainings           age  previous_year_rating  \\\n",
       "count  23490.000000     23490.000000  23490.000000          21678.000000   \n",
       "mean   39041.399149         1.254236     34.782929              3.339146   \n",
       "std    22640.809201         0.600910      7.679492              1.263294   \n",
       "min        3.000000         1.000000     20.000000              1.000000   \n",
       "25%    19370.250000         1.000000     29.000000              3.000000   \n",
       "50%    38963.500000         1.000000     33.000000              3.000000   \n",
       "75%    58690.000000         1.000000     39.000000              4.000000   \n",
       "max    78295.000000         9.000000     60.000000              5.000000   \n",
       "\n",
       "       length_of_service  KPIs_met >80%   awards_won?  avg_training_score  \n",
       "count       23490.000000   23490.000000  23490.000000        23490.000000  \n",
       "mean            5.810387       0.358834      0.022776           63.263133  \n",
       "std             4.207917       0.479668      0.149191           13.411750  \n",
       "min             1.000000       0.000000      0.000000           39.000000  \n",
       "25%             3.000000       0.000000      0.000000           51.000000  \n",
       "50%             5.000000       0.000000      0.000000           60.000000  \n",
       "75%             7.000000       1.000000      0.000000           76.000000  \n",
       "max            34.000000       1.000000      1.000000           99.000000  "
      ]
     },
     "execution_count": 90,
     "metadata": {},
     "output_type": "execute_result"
    }
   ],
   "source": [
    "nTest.describe()"
   ]
  },
  {
   "cell_type": "code",
   "execution_count": 91,
   "metadata": {},
   "outputs": [
    {
     "data": {
      "image/png": "[encoded data removed]",
      "text/plain": [
       "<Figure size 1008x576 with 1 Axes>"
      ]
     },
     "metadata": {
      "needs_background": "light"
     },
     "output_type": "display_data"
    }
   ],
   "source": [
    "sns.heatmap(nTrain.isna(), yticklabels=False, cbar=False, cmap='viridis')\n",
    "plt.show()"
   ]
  },
  {
   "cell_type": "code",
   "execution_count": 92,
   "metadata": {},
   "outputs": [
    {
     "data": {
      "image/png": "[encoded data removed]",
      "text/plain": [
       "<Figure size 1008x576 with 1 Axes>"
      ]
     },
     "metadata": {
      "needs_background": "light"
     },
     "output_type": "display_data"
    }
   ],
   "source": [
    "sns.heatmap(nTest.isna(), yticklabels=False, cbar=False, cmap='viridis')\n",
    "plt.show()"
   ]
  },
  {
   "cell_type": "code",
   "execution_count": 93,
   "metadata": {},
   "outputs": [
    {
     "data": {
      "text/plain": [
       "<matplotlib.axes._subplots.AxesSubplot at 0x7f21567f3198>"
      ]
     },
     "execution_count": 93,
     "metadata": {},
     "output_type": "execute_result"
    },
    {
     "data": {
      "image/png": "[encoded data removed]",
      "text/plain": [
       "<Figure size 1008x576 with 2 Axes>"
      ]
     },
     "metadata": {
      "needs_background": "light"
     },
     "output_type": "display_data"
    }
   ],
   "source": [
    "plt.title('Peason Coeficient correlation')\n",
    "sns.heatmap(train.corr(),vmax=1,vmin=-1,linewidths=0.1,annot=True,\n",
    "           linecolor='white',cmap='coolwarm',square=True)"
   ]
  },
  {
   "cell_type": "code",
   "execution_count": 94,
   "metadata": {},
   "outputs": [],
   "source": [
    "# sns.barplot()"
   ]
  },
  {
   "cell_type": "markdown",
   "metadata": {},
   "source": [
    "## **3 FEATURE ENGINEERING**"
   ]
  },
  {
   "cell_type": "markdown",
   "metadata": {},
   "source": [
    "### 3.1 RENAMING SOME VARIABLES"
   ]
  },
  {
   "cell_type": "code",
   "execution_count": 95,
   "metadata": {},
   "outputs": [
    {
     "name": "stdout",
     "output_type": "stream",
     "text": [
      "Index(['employee_id', 'department', 'region', 'education', 'gender',\n",
      "       'recruitment_channel', 'no_of_trainings', 'age', 'previous_year_rating',\n",
      "       'length_of_service', 'KPIs_met >80%', 'awards_won?',\n",
      "       'avg_training_score', 'is_promoted'],\n",
      "      dtype='object')\n",
      "Index(['employee_id', 'department', 'region', 'education', 'gender',\n",
      "       'recruitment_channel', 'no_of_trainings', 'age', 'previous_year_rating',\n",
      "       'length_of_service', 'KPIs_met >80%', 'awards_won?',\n",
      "       'avg_training_score'],\n",
      "      dtype='object')\n"
     ]
    }
   ],
   "source": [
    "print(nTrain.columns)\n",
    "print(nTest.columns)"
   ]
  },
  {
   "cell_type": "code",
   "execution_count": 96,
   "metadata": {},
   "outputs": [
    {
     "name": "stdout",
     "output_type": "stream",
     "text": [
      "Index(['id', 'department', 'region', 'education', 'gender',\n",
      "       'recruitment_channel', 'no_of_trainings', 'age', 'previous_year_rating',\n",
      "       'length_of_service', 'kpi', 'awards', 'avg_training_score',\n",
      "       'is_promoted'],\n",
      "      dtype='object')\n",
      "Index(['id', 'department', 'region', 'education', 'gender',\n",
      "       'recruitment_channel', 'no_of_trainings', 'age', 'previous_year_rating',\n",
      "       'length_of_service', 'kpi', 'awards', 'avg_training_score'],\n",
      "      dtype='object')\n"
     ]
    }
   ],
   "source": [
    "nTrain.rename(columns={'employee_id':'id','KPIs_met >80%':'kpi',\n",
    "                       'awards_won?':'awards'},inplace=True)\n",
    "print(nTrain.columns)\n",
    "nTest.rename(columns={'employee_id':'id','KPIs_met >80%':'kpi',\n",
    "                       'awards_won?':'awards'},inplace=True)\n",
    "print(nTest.columns)"
   ]
  },
  {
   "cell_type": "markdown",
   "metadata": {},
   "source": [
    "### 3.2 WORKING WITH VARIABLES"
   ]
  },
  {
   "cell_type": "code",
   "execution_count": 97,
   "metadata": {},
   "outputs": [
    {
     "name": "stdout",
     "output_type": "stream",
     "text": [
      "id                      45869\n",
      "department                 10\n",
      "region                     34\n",
      "education                   3\n",
      "gender                      2\n",
      "recruitment_channel         3\n",
      "no_of_trainings            10\n",
      "age                        41\n",
      "previous_year_rating        5\n",
      "length_of_service          35\n",
      "kpi                         2\n",
      "awards                      2\n",
      "avg_training_score         61\n",
      "is_promoted                 2\n",
      "dtype: int64\n",
      "\n",
      "id                      23490\n",
      "department                  9\n",
      "region                     34\n",
      "education                   3\n",
      "gender                      2\n",
      "recruitment_channel         3\n",
      "no_of_trainings             9\n",
      "age                        41\n",
      "previous_year_rating        5\n",
      "length_of_service          34\n",
      "kpi                         2\n",
      "awards                      2\n",
      "avg_training_score         61\n",
      "dtype: int64\n"
     ]
    }
   ],
   "source": [
    "print(nTrain.nunique())\n",
    "print()\n",
    "print(nTest.nunique())"
   ]
  },
  {
   "cell_type": "code",
   "execution_count": 98,
   "metadata": {},
   "outputs": [],
   "source": [
    "nTrain.drop(labels='id',axis=1,inplace=True)\n",
    "nTest.drop('id',1,inplace=True)"
   ]
  },
  {
   "cell_type": "markdown",
   "metadata": {},
   "source": [
    "### 3.3 DEALING WITH MISSING VALUES"
   ]
  },
  {
   "cell_type": "markdown",
   "metadata": {},
   "source": [
    "- **DROPPING NA ROWS**"
   ]
  },
  {
   "cell_type": "code",
   "execution_count": 99,
   "metadata": {},
   "outputs": [],
   "source": [
    "nTrain.dropna(subset=nTrain.iloc[:,[1,3,4,5,6,8,9,10,11,12]].columns,inplace=True)"
   ]
  },
  {
   "cell_type": "markdown",
   "metadata": {},
   "source": [
    "**Now, I am going  to make options for this  model.**\n",
    "- **1 droping all rows, which contain NA values.**\n",
    "- **2 The other option is by filling the missing values by attribute 'method' in fillna() function.**"
   ]
  },
  {
   "cell_type": "markdown",
   "metadata": {},
   "source": [
    "- **FULL OUT**"
   ]
  },
  {
   "cell_type": "code",
   "execution_count": 100,
   "metadata": {},
   "outputs": [],
   "source": [
    "# nTrain.dropna(inplace=True)"
   ]
  },
  {
   "cell_type": "markdown",
   "metadata": {},
   "source": [
    "- **FILLING WITH A METHOD**"
   ]
  },
  {
   "cell_type": "code",
   "execution_count": 101,
   "metadata": {},
   "outputs": [
    {
     "data": {
      "text/plain": [
       "3.0    15513\n",
       "5.0     9889\n",
       "4.0     8232\n",
       "1.0     5228\n",
       "2.0     3528\n",
       "Name: previous_year_rating, dtype: int64"
      ]
     },
     "execution_count": 101,
     "metadata": {},
     "output_type": "execute_result"
    }
   ],
   "source": [
    "nTrain.previous_year_rating.value_counts()"
   ]
  },
  {
   "cell_type": "code",
   "execution_count": 102,
   "metadata": {},
   "outputs": [
    {
     "data": {
      "text/plain": [
       "Bachelor's          30687\n",
       "Master's & above    12495\n",
       "Below Secondary       657\n",
       "Name: education, dtype: int64"
      ]
     },
     "execution_count": 102,
     "metadata": {},
     "output_type": "execute_result"
    }
   ],
   "source": [
    "nTrain.education.value_counts()"
   ]
  },
  {
   "cell_type": "code",
   "execution_count": 103,
   "metadata": {},
   "outputs": [],
   "source": [
    "# nTrain.ffill().isna().any()"
   ]
  },
  {
   "cell_type": "code",
   "execution_count": 104,
   "metadata": {},
   "outputs": [],
   "source": [
    "# nTrain.ffill(inplace=True)\n",
    "# nTest.bfill(inplace=True)\n",
    "nTrain.fillna(method='bfill',inplace=True)\n",
    "nTrain.fillna(method='ffill',inplace=True)\n",
    "nTest.fillna(method='bfill',inplace=True)"
   ]
  },
  {
   "cell_type": "code",
   "execution_count": 105,
   "metadata": {},
   "outputs": [
    {
     "data": {
      "text/plain": [
       "3.0    16797\n",
       "5.0    10702\n",
       "4.0     8888\n",
       "1.0     5655\n",
       "2.0     3826\n",
       "Name: previous_year_rating, dtype: int64"
      ]
     },
     "execution_count": 105,
     "metadata": {},
     "output_type": "execute_result"
    }
   ],
   "source": [
    "nTrain.previous_year_rating.value_counts()"
   ]
  },
  {
   "cell_type": "code",
   "execution_count": 106,
   "metadata": {},
   "outputs": [
    {
     "data": {
      "text/plain": [
       "Bachelor's          32075\n",
       "Master's & above    13113\n",
       "Below Secondary       680\n",
       "Name: education, dtype: int64"
      ]
     },
     "execution_count": 106,
     "metadata": {},
     "output_type": "execute_result"
    }
   ],
   "source": [
    "nTrain.education.value_counts()"
   ]
  },
  {
   "cell_type": "markdown",
   "metadata": {},
   "source": [
    "- **CONVERTING ALL FLOATS TO INTEGERS**"
   ]
  },
  {
   "cell_type": "code",
   "execution_count": 107,
   "metadata": {},
   "outputs": [],
   "source": [
    "def conversion(data):\n",
    "    for i in data.columns:\n",
    "        if np.issubdtype(data[i].dtype, np.number) == True:\n",
    "            data[i] = data[i].astype(np.int64)\n",
    "    return data"
   ]
  },
  {
   "cell_type": "code",
   "execution_count": 108,
   "metadata": {},
   "outputs": [],
   "source": [
    "nTrain = conversion(nTrain)\n",
    "nTest = conversion(nTest)"
   ]
  },
  {
   "cell_type": "markdown",
   "metadata": {},
   "source": [
    "- **CONVERTING EACH NUMERICCATEGORICAL VARIABLE TO CATEGORICAL**"
   ]
  },
  {
   "cell_type": "code",
   "execution_count": 109,
   "metadata": {},
   "outputs": [
    {
     "data": {
      "text/plain": [
       "department              object\n",
       "region                  object\n",
       "education               object\n",
       "gender                  object\n",
       "recruitment_channel     object\n",
       "no_of_trainings          int64\n",
       "age                      int64\n",
       "previous_year_rating     int64\n",
       "length_of_service        int64\n",
       "kpi                      int64\n",
       "awards                   int64\n",
       "avg_training_score       int64\n",
       "is_promoted              int64\n",
       "dtype: object"
      ]
     },
     "execution_count": 109,
     "metadata": {},
     "output_type": "execute_result"
    }
   ],
   "source": [
    "nTrain.dtypes"
   ]
  },
  {
   "cell_type": "code",
   "execution_count": 110,
   "metadata": {},
   "outputs": [],
   "source": [
    "X = nTrain['no_of_trainings,previous_year_rating,kpi,awards'.split(',')].astype(np.object_)\n",
    "Y = nTest['no_of_trainings,previous_year_rating,kpi,awards'.split(',')].astype(np.object_)"
   ]
  },
  {
   "cell_type": "code",
   "execution_count": 111,
   "metadata": {},
   "outputs": [],
   "source": [
    "nTrain['no_of_trainings,previous_year_rating,kpi,awards'.split(',')] = X\n",
    "nTest['no_of_trainings,previous_year_rating,kpi,awards'.split(',')] = Y"
   ]
  },
  {
   "cell_type": "markdown",
   "metadata": {},
   "source": [
    "- **LET'S TAKE A LOOD AT EACH CATEGORICAL VARIABLE**"
   ]
  },
  {
   "cell_type": "code",
   "execution_count": 112,
   "metadata": {},
   "outputs": [
    {
     "data": {
      "text/plain": [
       "Sales & Marketing    14063\n",
       "Operations            9458\n",
       "Technology            6008\n",
       "Procurement           5977\n",
       "Analytics             4468\n",
       "Finance               2115\n",
       "HR                    2023\n",
       "Legal                  899\n",
       "R&D                    857\n",
       "Name: department, dtype: int64"
      ]
     },
     "execution_count": 112,
     "metadata": {},
     "output_type": "execute_result"
    }
   ],
   "source": [
    "nTrain['department'].value_counts()"
   ]
  },
  {
   "cell_type": "code",
   "execution_count": 113,
   "metadata": {},
   "outputs": [],
   "source": [
    "nTrain.loc[nTrain.department == 'Analyti','department'] = 'Analytics'"
   ]
  },
  {
   "cell_type": "code",
   "execution_count": 114,
   "metadata": {},
   "outputs": [],
   "source": [
    "# droping a row that columns contains with one missing value\n",
    "# as shown by the heatmap"
   ]
  },
  {
   "cell_type": "code",
   "execution_count": 115,
   "metadata": {},
   "outputs": [],
   "source": [
    "def deep(data):\n",
    "    for i in data.columns:\n",
    "        if np.issubdtype(data[i].dtype, np.object_) == True:\n",
    "            print(data[i].unique())"
   ]
  },
  {
   "cell_type": "code",
   "execution_count": 116,
   "metadata": {},
   "outputs": [
    {
     "name": "stdout",
     "output_type": "stream",
     "text": [
      "['Sales & Marketing' 'Operations' 'Technology' 'Analytics' 'R&D'\n",
      " 'Procurement' 'Finance' 'HR' 'Legal']\n",
      "['region_7' 'region_22' 'region_19' 'region_23' 'region_26' 'region_2'\n",
      " 'region_20' 'region_34' 'region_1' 'region_4' 'region_29' 'region_31'\n",
      " 'region_15' 'region_14' 'region_11' 'region_5' 'region_28' 'region_17'\n",
      " 'region_13' 'region_16' 'region_25' 'region_10' 'region_27' 'region_30'\n",
      " 'region_12' 'region_21' 'region_8' 'region_32' 'region_6' 'region_33'\n",
      " 'region_24' 'region_3' 'region_9' 'region_18']\n",
      "[\"Master's & above\" \"Bachelor's\" 'Below Secondary']\n",
      "['f' 'm']\n",
      "['sourcing' 'other' 'referred']\n",
      "[1 2 3 4 7 5 6 8 10 9]\n",
      "[5 3 1 4 2]\n",
      "[1 0]\n",
      "[0 1]\n",
      "None\n",
      "['Technology' 'HR' 'Sales & Marketing' 'Procurement' 'Finance' 'Analytics'\n",
      " 'Operations' 'Legal' 'R&D']\n",
      "['region_26' 'region_4' 'region_13' 'region_2' 'region_29' 'region_7'\n",
      " 'region_22' 'region_16' 'region_17' 'region_24' 'region_11' 'region_27'\n",
      " 'region_9' 'region_20' 'region_34' 'region_23' 'region_8' 'region_14'\n",
      " 'region_31' 'region_19' 'region_5' 'region_28' 'region_15' 'region_3'\n",
      " 'region_25' 'region_12' 'region_21' 'region_30' 'region_10' 'region_33'\n",
      " 'region_32' 'region_6' 'region_1' 'region_18']\n",
      "[\"Bachelor's\" \"Master's & above\" 'Below Secondary']\n",
      "['m' 'f']\n",
      "['sourcing' 'other' 'referred']\n",
      "[1 3 2 4 5 7 6 8 9]\n",
      "[3 1 2 4 5]\n",
      "[1 0]\n",
      "[0 1]\n",
      "None\n"
     ]
    }
   ],
   "source": [
    "print(deep(nTrain))\n",
    "print(deep(nTest))"
   ]
  },
  {
   "cell_type": "code",
   "execution_count": 117,
   "metadata": {},
   "outputs": [
    {
     "data": {
      "text/plain": [
       "1     37158\n",
       "2      6692\n",
       "3      1464\n",
       "4       389\n",
       "5       106\n",
       "6        37\n",
       "7         9\n",
       "10        5\n",
       "8         5\n",
       "9         3\n",
       "Name: no_of_trainings, dtype: int64"
      ]
     },
     "execution_count": 117,
     "metadata": {},
     "output_type": "execute_result"
    }
   ],
   "source": [
    "nTrain.no_of_trainings.value_counts()"
   ]
  },
  {
   "cell_type": "code",
   "execution_count": 118,
   "metadata": {},
   "outputs": [],
   "source": [
    "nTrain.drop(nTrain[nTrain['no_of_trainings'] == 10].index,inplace=True)"
   ]
  },
  {
   "cell_type": "markdown",
   "metadata": {},
   "source": [
    "- **3.4 MAPPING SOME FEATURES FOR PREVENTION**"
   ]
  },
  {
   "cell_type": "code",
   "execution_count": 119,
   "metadata": {},
   "outputs": [],
   "source": [
    "data = {}\n",
    "data['training'] = {1:'one',\n",
    "                    2:'two',\n",
    "                    3:'three',\n",
    "                    4:'four',\n",
    "                    5:'five',\n",
    "                    6:'six',\n",
    "                    7:'seven',\n",
    "                    8:'eight',\n",
    "                    9:'nine'}\n",
    "data['rating'] = {1:'oneo',\n",
    "                  2:'twot',\n",
    "                  3:'threet',\n",
    "                  4:'fourf',\n",
    "                  5:'fivef'}\n",
    "data['kpi'] = {0:'zero',1:'oneon'}\n",
    "data['award'] = {0:'zeroz',1:'oneone'}"
   ]
  },
  {
   "cell_type": "code",
   "execution_count": 120,
   "metadata": {},
   "outputs": [],
   "source": [
    "nTrain['no_of_trainings'] = nTrain['no_of_trainings'].map(data['training'])\n",
    "nTest['no_of_trainings'] = nTest['no_of_trainings'].map(data['training'])\n",
    "nTrain['previous_year_rating'] = nTrain['previous_year_rating'].map(data['rating'])\n",
    "nTest['previous_year_rating'] = nTest['previous_year_rating'].map(data['rating'])\n",
    "nTrain['kpi'] = nTrain['kpi'].map(data['kpi'])\n",
    "nTest['kpi'] = nTest['kpi'].map(data['kpi'])\n",
    "nTrain['awards'] = nTrain['awards'].map(data['award'])\n",
    "nTest['awards'] = nTest['awards'].map(data['award'])"
   ]
  },
  {
   "cell_type": "markdown",
   "metadata": {},
   "source": [
    "## **4 SPLITTING INDEPENDENT VARIABLES AND DEPENDENT VARIABLE**"
   ]
  },
  {
   "cell_type": "code",
   "execution_count": 121,
   "metadata": {},
   "outputs": [],
   "source": [
    "X = nTrain.drop('is_promoted',axis=1)\n",
    "Y = nTrain['is_promoted']"
   ]
  },
  {
   "cell_type": "markdown",
   "metadata": {},
   "source": [
    "## **5 CREATING DUMMY VARIABLES**"
   ]
  },
  {
   "cell_type": "code",
   "execution_count": 122,
   "metadata": {},
   "outputs": [],
   "source": [
    "def dummyVaraible(dataset):\n",
    "    col = dataset\n",
    "    for i in list(col.columns):\n",
    "        if np.issubdtype(dataset[i].dtype, np.object_) == True:\n",
    "            data = pd.get_dummies(dataset[i], drop_first= True)\n",
    "            dataset = pd.concat([dataset,data], axis=1)\n",
    "            dataset.drop(i,axis=1,inplace=True)\n",
    "    return dataset"
   ]
  },
  {
   "cell_type": "code",
   "execution_count": 123,
   "metadata": {},
   "outputs": [],
   "source": [
    "# dummyVaraible(X).shape\n",
    "# dummyVaraible(X).columns\n",
    "X = dummyVaraible(X)"
   ]
  },
  {
   "cell_type": "code",
   "execution_count": 124,
   "metadata": {},
   "outputs": [
    {
     "data": {
      "text/plain": [
       "Index(['age', 'length_of_service', 'avg_training_score', 'Finance', 'HR',\n",
       "       'Legal', 'Operations', 'Procurement', 'R&D', 'Sales & Marketing',\n",
       "       'Technology', 'region_10', 'region_11', 'region_12', 'region_13',\n",
       "       'region_14', 'region_15', 'region_16', 'region_17', 'region_18',\n",
       "       'region_19', 'region_2', 'region_20', 'region_21', 'region_22',\n",
       "       'region_23', 'region_24', 'region_25', 'region_26', 'region_27',\n",
       "       'region_28', 'region_29', 'region_3', 'region_30', 'region_31',\n",
       "       'region_32', 'region_33', 'region_34', 'region_4', 'region_5',\n",
       "       'region_6', 'region_7', 'region_8', 'region_9', 'Below Secondary',\n",
       "       'Master's & above', 'm', 'referred', 'sourcing', 'five', 'four', 'nine',\n",
       "       'one', 'seven', 'six', 'three', 'two', 'fourf', 'oneo', 'threet',\n",
       "       'twot', 'zero', 'zeroz'],\n",
       "      dtype='object')"
      ]
     },
     "execution_count": 124,
     "metadata": {},
     "output_type": "execute_result"
    }
   ],
   "source": [
    "# dummyVaraible(nTest).shape\n",
    "# dummyVaraible(nTest).columns\n",
    "nTest = dummyVaraible(nTest)\n",
    "nTest.columns"
   ]
  },
  {
   "cell_type": "code",
   "execution_count": 125,
   "metadata": {},
   "outputs": [
    {
     "name": "stdout",
     "output_type": "stream",
     "text": [
      "(45863, 63)\n",
      "(23490, 63)\n"
     ]
    }
   ],
   "source": [
    "print(X.shape)\n",
    "print(nTest.shape)"
   ]
  },
  {
   "cell_type": "markdown",
   "metadata": {},
   "source": [
    "## **6 FEATURE SCALING**"
   ]
  },
  {
   "cell_type": "code",
   "execution_count": 126,
   "metadata": {},
   "outputs": [],
   "source": [
    "scale = StandardScaler()"
   ]
  },
  {
   "cell_type": "code",
   "execution_count": 127,
   "metadata": {},
   "outputs": [],
   "source": [
    "def trainScale(train):\n",
    "    data = train\n",
    "    train = scale.fit_transform(train)\n",
    "    train = pd.DataFrame(train, columns=data.columns)\n",
    "    return train\n",
    "\n",
    "def testScale(test):\n",
    "    data = test\n",
    "    test = scale.transform(test)\n",
    "    test = pd.DataFrame(test, columns=data.columns)\n",
    "    return test"
   ]
  },
  {
   "cell_type": "code",
   "execution_count": 128,
   "metadata": {},
   "outputs": [],
   "source": [
    "X = trainScale(X)\n",
    "nTest = testScale(nTest)"
   ]
  },
  {
   "cell_type": "code",
   "execution_count": 129,
   "metadata": {},
   "outputs": [
    {
     "data": {
      "text/html": [
       "<div>\n",
       "<style scoped>\n",
       "    .dataframe tbody tr th:only-of-type {\n",
       "        vertical-align: middle;\n",
       "    }\n",
       "\n",
       "    .dataframe tbody tr th {\n",
       "        vertical-align: top;\n",
       "    }\n",
       "\n",
       "    .dataframe thead th {\n",
       "        text-align: right;\n",
       "    }\n",
       "</style>\n",
       "<table border=\"1\" class=\"dataframe\">\n",
       "  <thead>\n",
       "    <tr style=\"text-align: right;\">\n",
       "      <th></th>\n",
       "      <th>age</th>\n",
       "      <th>length_of_service</th>\n",
       "      <th>avg_training_score</th>\n",
       "      <th>Finance</th>\n",
       "      <th>HR</th>\n",
       "      <th>Legal</th>\n",
       "      <th>Operations</th>\n",
       "      <th>Procurement</th>\n",
       "      <th>R&amp;D</th>\n",
       "      <th>Sales &amp; Marketing</th>\n",
       "      <th>...</th>\n",
       "      <th>seven</th>\n",
       "      <th>six</th>\n",
       "      <th>three</th>\n",
       "      <th>two</th>\n",
       "      <th>fourf</th>\n",
       "      <th>oneo</th>\n",
       "      <th>threet</th>\n",
       "      <th>twot</th>\n",
       "      <th>zero</th>\n",
       "      <th>zeroz</th>\n",
       "    </tr>\n",
       "  </thead>\n",
       "  <tbody>\n",
       "    <tr>\n",
       "      <th>0</th>\n",
       "      <td>0.026210</td>\n",
       "      <td>0.500004</td>\n",
       "      <td>-1.077859</td>\n",
       "      <td>-0.219875</td>\n",
       "      <td>-0.214814</td>\n",
       "      <td>-0.141399</td>\n",
       "      <td>-0.509705</td>\n",
       "      <td>-0.386958</td>\n",
       "      <td>-0.137992</td>\n",
       "      <td>1.503823</td>\n",
       "      <td>...</td>\n",
       "      <td>-0.01401</td>\n",
       "      <td>-0.028415</td>\n",
       "      <td>-0.181587</td>\n",
       "      <td>-0.413329</td>\n",
       "      <td>-0.490284</td>\n",
       "      <td>-0.374987</td>\n",
       "      <td>-0.760049</td>\n",
       "      <td>-0.301687</td>\n",
       "      <td>-1.354649</td>\n",
       "      <td>0.153667</td>\n",
       "    </tr>\n",
       "    <tr>\n",
       "      <th>1</th>\n",
       "      <td>-0.627593</td>\n",
       "      <td>-0.435144</td>\n",
       "      <td>-0.255210</td>\n",
       "      <td>-0.219875</td>\n",
       "      <td>-0.214814</td>\n",
       "      <td>-0.141399</td>\n",
       "      <td>1.961918</td>\n",
       "      <td>-0.386958</td>\n",
       "      <td>-0.137992</td>\n",
       "      <td>-0.664972</td>\n",
       "      <td>...</td>\n",
       "      <td>-0.01401</td>\n",
       "      <td>-0.028415</td>\n",
       "      <td>-0.181587</td>\n",
       "      <td>-0.413329</td>\n",
       "      <td>-0.490284</td>\n",
       "      <td>-0.374987</td>\n",
       "      <td>-0.760049</td>\n",
       "      <td>-0.301687</td>\n",
       "      <td>0.738198</td>\n",
       "      <td>0.153667</td>\n",
       "    </tr>\n",
       "    <tr>\n",
       "      <th>2</th>\n",
       "      <td>-0.104550</td>\n",
       "      <td>0.266217</td>\n",
       "      <td>-1.003073</td>\n",
       "      <td>-0.219875</td>\n",
       "      <td>-0.214814</td>\n",
       "      <td>-0.141399</td>\n",
       "      <td>-0.509705</td>\n",
       "      <td>-0.386958</td>\n",
       "      <td>-0.137992</td>\n",
       "      <td>1.503823</td>\n",
       "      <td>...</td>\n",
       "      <td>-0.01401</td>\n",
       "      <td>-0.028415</td>\n",
       "      <td>-0.181587</td>\n",
       "      <td>-0.413329</td>\n",
       "      <td>-0.490284</td>\n",
       "      <td>-0.374987</td>\n",
       "      <td>1.315705</td>\n",
       "      <td>-0.301687</td>\n",
       "      <td>0.738198</td>\n",
       "      <td>0.153667</td>\n",
       "    </tr>\n",
       "    <tr>\n",
       "      <th>3</th>\n",
       "      <td>0.549253</td>\n",
       "      <td>0.967578</td>\n",
       "      <td>-1.003073</td>\n",
       "      <td>-0.219875</td>\n",
       "      <td>-0.214814</td>\n",
       "      <td>-0.141399</td>\n",
       "      <td>-0.509705</td>\n",
       "      <td>-0.386958</td>\n",
       "      <td>-0.137992</td>\n",
       "      <td>1.503823</td>\n",
       "      <td>...</td>\n",
       "      <td>-0.01401</td>\n",
       "      <td>-0.028415</td>\n",
       "      <td>-0.181587</td>\n",
       "      <td>2.419382</td>\n",
       "      <td>-0.490284</td>\n",
       "      <td>2.666759</td>\n",
       "      <td>-0.760049</td>\n",
       "      <td>-0.301687</td>\n",
       "      <td>0.738198</td>\n",
       "      <td>0.153667</td>\n",
       "    </tr>\n",
       "    <tr>\n",
       "      <th>4</th>\n",
       "      <td>1.333817</td>\n",
       "      <td>-0.902718</td>\n",
       "      <td>0.717010</td>\n",
       "      <td>-0.219875</td>\n",
       "      <td>-0.214814</td>\n",
       "      <td>-0.141399</td>\n",
       "      <td>-0.509705</td>\n",
       "      <td>-0.386958</td>\n",
       "      <td>-0.137992</td>\n",
       "      <td>-0.664972</td>\n",
       "      <td>...</td>\n",
       "      <td>-0.01401</td>\n",
       "      <td>-0.028415</td>\n",
       "      <td>-0.181587</td>\n",
       "      <td>-0.413329</td>\n",
       "      <td>-0.490284</td>\n",
       "      <td>-0.374987</td>\n",
       "      <td>1.315705</td>\n",
       "      <td>-0.301687</td>\n",
       "      <td>0.738198</td>\n",
       "      <td>0.153667</td>\n",
       "    </tr>\n",
       "  </tbody>\n",
       "</table>\n",
       "<p>5 rows × 63 columns</p>\n",
       "</div>"
      ],
      "text/plain": [
       "        age  length_of_service  avg_training_score   Finance        HR  \\\n",
       "0  0.026210           0.500004           -1.077859 -0.219875 -0.214814   \n",
       "1 -0.627593          -0.435144           -0.255210 -0.219875 -0.214814   \n",
       "2 -0.104550           0.266217           -1.003073 -0.219875 -0.214814   \n",
       "3  0.549253           0.967578           -1.003073 -0.219875 -0.214814   \n",
       "4  1.333817          -0.902718            0.717010 -0.219875 -0.214814   \n",
       "\n",
       "      Legal  Operations  Procurement       R&D  Sales & Marketing  ...  \\\n",
       "0 -0.141399   -0.509705    -0.386958 -0.137992           1.503823  ...   \n",
       "1 -0.141399    1.961918    -0.386958 -0.137992          -0.664972  ...   \n",
       "2 -0.141399   -0.509705    -0.386958 -0.137992           1.503823  ...   \n",
       "3 -0.141399   -0.509705    -0.386958 -0.137992           1.503823  ...   \n",
       "4 -0.141399   -0.509705    -0.386958 -0.137992          -0.664972  ...   \n",
       "\n",
       "     seven       six     three       two     fourf      oneo    threet  \\\n",
       "0 -0.01401 -0.028415 -0.181587 -0.413329 -0.490284 -0.374987 -0.760049   \n",
       "1 -0.01401 -0.028415 -0.181587 -0.413329 -0.490284 -0.374987 -0.760049   \n",
       "2 -0.01401 -0.028415 -0.181587 -0.413329 -0.490284 -0.374987  1.315705   \n",
       "3 -0.01401 -0.028415 -0.181587  2.419382 -0.490284  2.666759 -0.760049   \n",
       "4 -0.01401 -0.028415 -0.181587 -0.413329 -0.490284 -0.374987  1.315705   \n",
       "\n",
       "       twot      zero     zeroz  \n",
       "0 -0.301687 -1.354649  0.153667  \n",
       "1 -0.301687  0.738198  0.153667  \n",
       "2 -0.301687  0.738198  0.153667  \n",
       "3 -0.301687  0.738198  0.153667  \n",
       "4 -0.301687  0.738198  0.153667  \n",
       "\n",
       "[5 rows x 63 columns]"
      ]
     },
     "execution_count": 129,
     "metadata": {},
     "output_type": "execute_result"
    }
   ],
   "source": [
    "X.head()"
   ]
  },
  {
   "cell_type": "code",
   "execution_count": 130,
   "metadata": {},
   "outputs": [
    {
     "data": {
      "text/html": [
       "<div>\n",
       "<style scoped>\n",
       "    .dataframe tbody tr th:only-of-type {\n",
       "        vertical-align: middle;\n",
       "    }\n",
       "\n",
       "    .dataframe tbody tr th {\n",
       "        vertical-align: top;\n",
       "    }\n",
       "\n",
       "    .dataframe thead th {\n",
       "        text-align: right;\n",
       "    }\n",
       "</style>\n",
       "<table border=\"1\" class=\"dataframe\">\n",
       "  <thead>\n",
       "    <tr style=\"text-align: right;\">\n",
       "      <th></th>\n",
       "      <th>age</th>\n",
       "      <th>length_of_service</th>\n",
       "      <th>avg_training_score</th>\n",
       "      <th>Finance</th>\n",
       "      <th>HR</th>\n",
       "      <th>Legal</th>\n",
       "      <th>Operations</th>\n",
       "      <th>Procurement</th>\n",
       "      <th>R&amp;D</th>\n",
       "      <th>Sales &amp; Marketing</th>\n",
       "      <th>...</th>\n",
       "      <th>seven</th>\n",
       "      <th>six</th>\n",
       "      <th>three</th>\n",
       "      <th>two</th>\n",
       "      <th>fourf</th>\n",
       "      <th>oneo</th>\n",
       "      <th>threet</th>\n",
       "      <th>twot</th>\n",
       "      <th>zero</th>\n",
       "      <th>zeroz</th>\n",
       "    </tr>\n",
       "  </thead>\n",
       "  <tbody>\n",
       "    <tr>\n",
       "      <th>0</th>\n",
       "      <td>-1.412157</td>\n",
       "      <td>-1.136505</td>\n",
       "      <td>1.016155</td>\n",
       "      <td>-0.219875</td>\n",
       "      <td>-0.214814</td>\n",
       "      <td>-0.141399</td>\n",
       "      <td>-0.509705</td>\n",
       "      <td>-0.386958</td>\n",
       "      <td>-0.137992</td>\n",
       "      <td>-0.664972</td>\n",
       "      <td>...</td>\n",
       "      <td>-0.01401</td>\n",
       "      <td>-0.028415</td>\n",
       "      <td>-0.181587</td>\n",
       "      <td>-0.413329</td>\n",
       "      <td>-0.490284</td>\n",
       "      <td>-0.374987</td>\n",
       "      <td>1.315705</td>\n",
       "      <td>-0.301687</td>\n",
       "      <td>-1.354649</td>\n",
       "      <td>0.153667</td>\n",
       "    </tr>\n",
       "    <tr>\n",
       "      <th>1</th>\n",
       "      <td>-0.496832</td>\n",
       "      <td>-0.201357</td>\n",
       "      <td>-0.928287</td>\n",
       "      <td>-0.219875</td>\n",
       "      <td>4.655189</td>\n",
       "      <td>-0.141399</td>\n",
       "      <td>-0.509705</td>\n",
       "      <td>-0.386958</td>\n",
       "      <td>-0.137992</td>\n",
       "      <td>-0.664972</td>\n",
       "      <td>...</td>\n",
       "      <td>-0.01401</td>\n",
       "      <td>-0.028415</td>\n",
       "      <td>-0.181587</td>\n",
       "      <td>-0.413329</td>\n",
       "      <td>-0.490284</td>\n",
       "      <td>-0.374987</td>\n",
       "      <td>1.315705</td>\n",
       "      <td>-0.301687</td>\n",
       "      <td>0.738198</td>\n",
       "      <td>0.153667</td>\n",
       "    </tr>\n",
       "    <tr>\n",
       "      <th>2</th>\n",
       "      <td>-0.496832</td>\n",
       "      <td>-0.435144</td>\n",
       "      <td>-1.227431</td>\n",
       "      <td>-0.219875</td>\n",
       "      <td>-0.214814</td>\n",
       "      <td>-0.141399</td>\n",
       "      <td>-0.509705</td>\n",
       "      <td>-0.386958</td>\n",
       "      <td>-0.137992</td>\n",
       "      <td>1.503823</td>\n",
       "      <td>...</td>\n",
       "      <td>-0.01401</td>\n",
       "      <td>-0.028415</td>\n",
       "      <td>-0.181587</td>\n",
       "      <td>-0.413329</td>\n",
       "      <td>-0.490284</td>\n",
       "      <td>2.666759</td>\n",
       "      <td>-0.760049</td>\n",
       "      <td>-0.301687</td>\n",
       "      <td>0.738198</td>\n",
       "      <td>0.153667</td>\n",
       "    </tr>\n",
       "    <tr>\n",
       "      <th>3</th>\n",
       "      <td>-0.496832</td>\n",
       "      <td>0.733791</td>\n",
       "      <td>0.118721</td>\n",
       "      <td>-0.219875</td>\n",
       "      <td>-0.214814</td>\n",
       "      <td>-0.141399</td>\n",
       "      <td>-0.509705</td>\n",
       "      <td>2.584257</td>\n",
       "      <td>-0.137992</td>\n",
       "      <td>-0.664972</td>\n",
       "      <td>...</td>\n",
       "      <td>-0.01401</td>\n",
       "      <td>-0.028415</td>\n",
       "      <td>5.507012</td>\n",
       "      <td>-0.413329</td>\n",
       "      <td>-0.490284</td>\n",
       "      <td>-0.374987</td>\n",
       "      <td>-0.760049</td>\n",
       "      <td>3.314693</td>\n",
       "      <td>0.738198</td>\n",
       "      <td>0.153667</td>\n",
       "    </tr>\n",
       "    <tr>\n",
       "      <th>4</th>\n",
       "      <td>-0.627593</td>\n",
       "      <td>0.266217</td>\n",
       "      <td>-0.180424</td>\n",
       "      <td>4.548036</td>\n",
       "      <td>-0.214814</td>\n",
       "      <td>-0.141399</td>\n",
       "      <td>-0.509705</td>\n",
       "      <td>-0.386958</td>\n",
       "      <td>-0.137992</td>\n",
       "      <td>-0.664972</td>\n",
       "      <td>...</td>\n",
       "      <td>-0.01401</td>\n",
       "      <td>-0.028415</td>\n",
       "      <td>-0.181587</td>\n",
       "      <td>-0.413329</td>\n",
       "      <td>2.039633</td>\n",
       "      <td>-0.374987</td>\n",
       "      <td>-0.760049</td>\n",
       "      <td>-0.301687</td>\n",
       "      <td>0.738198</td>\n",
       "      <td>0.153667</td>\n",
       "    </tr>\n",
       "  </tbody>\n",
       "</table>\n",
       "<p>5 rows × 63 columns</p>\n",
       "</div>"
      ],
      "text/plain": [
       "        age  length_of_service  avg_training_score   Finance        HR  \\\n",
       "0 -1.412157          -1.136505            1.016155 -0.219875 -0.214814   \n",
       "1 -0.496832          -0.201357           -0.928287 -0.219875  4.655189   \n",
       "2 -0.496832          -0.435144           -1.227431 -0.219875 -0.214814   \n",
       "3 -0.496832           0.733791            0.118721 -0.219875 -0.214814   \n",
       "4 -0.627593           0.266217           -0.180424  4.548036 -0.214814   \n",
       "\n",
       "      Legal  Operations  Procurement       R&D  Sales & Marketing  ...  \\\n",
       "0 -0.141399   -0.509705    -0.386958 -0.137992          -0.664972  ...   \n",
       "1 -0.141399   -0.509705    -0.386958 -0.137992          -0.664972  ...   \n",
       "2 -0.141399   -0.509705    -0.386958 -0.137992           1.503823  ...   \n",
       "3 -0.141399   -0.509705     2.584257 -0.137992          -0.664972  ...   \n",
       "4 -0.141399   -0.509705    -0.386958 -0.137992          -0.664972  ...   \n",
       "\n",
       "     seven       six     three       two     fourf      oneo    threet  \\\n",
       "0 -0.01401 -0.028415 -0.181587 -0.413329 -0.490284 -0.374987  1.315705   \n",
       "1 -0.01401 -0.028415 -0.181587 -0.413329 -0.490284 -0.374987  1.315705   \n",
       "2 -0.01401 -0.028415 -0.181587 -0.413329 -0.490284  2.666759 -0.760049   \n",
       "3 -0.01401 -0.028415  5.507012 -0.413329 -0.490284 -0.374987 -0.760049   \n",
       "4 -0.01401 -0.028415 -0.181587 -0.413329  2.039633 -0.374987 -0.760049   \n",
       "\n",
       "       twot      zero     zeroz  \n",
       "0 -0.301687 -1.354649  0.153667  \n",
       "1 -0.301687  0.738198  0.153667  \n",
       "2 -0.301687  0.738198  0.153667  \n",
       "3  3.314693  0.738198  0.153667  \n",
       "4 -0.301687  0.738198  0.153667  \n",
       "\n",
       "[5 rows x 63 columns]"
      ]
     },
     "execution_count": 130,
     "metadata": {},
     "output_type": "execute_result"
    }
   ],
   "source": [
    "nTest.head()"
   ]
  },
  {
   "cell_type": "markdown",
   "metadata": {},
   "source": [
    "## **7 SAMPLE MODEL**"
   ]
  },
  {
   "cell_type": "code",
   "execution_count": 76,
   "metadata": {},
   "outputs": [],
   "source": [
    "classifier = clf(n_jobs=-1)"
   ]
  },
  {
   "cell_type": "code",
   "execution_count": 77,
   "metadata": {},
   "outputs": [],
   "source": [
    "scores = cross_val_score(classifier,X,Y,cv=10)"
   ]
  },
  {
   "cell_type": "code",
   "execution_count": 80,
   "metadata": {},
   "outputs": [
    {
     "name": "stdout",
     "output_type": "stream",
     "text": [
      "[0.93590582 0.93982995 0.93699586 0.93545573 0.93676406 0.93720017\n",
      " 0.93916267 0.94025294 0.94112516 0.9385085 ]\n",
      "0.9381200887127591\n"
     ]
    }
   ],
   "source": [
    "print(scores)\n",
    "print(scores.mean())"
   ]
  },
  {
   "cell_type": "markdown",
   "metadata": {},
   "source": [
    "So without parameter  tuning our model did well, **by attaining 93% of accuracy.**"
   ]
  },
  {
   "cell_type": "code",
   "execution_count": 54,
   "metadata": {},
   "outputs": [
    {
     "data": {
      "text/plain": [
       "XGBClassifier(base_score=0.5, booster='gbtree', colsample_bylevel=1,\n",
       "              colsample_bynode=1, colsample_bytree=1, gamma=0,\n",
       "              learning_rate=0.1, max_delta_step=0, max_depth=3,\n",
       "              min_child_weight=1, missing=None, n_estimators=100, n_jobs=1,\n",
       "              nthread=None, objective='binary:logistic', random_state=0,\n",
       "              reg_alpha=0, reg_lambda=1, scale_pos_weight=1, seed=None,\n",
       "              silent=None, subsample=1, verbosity=1)"
      ]
     },
     "execution_count": 54,
     "metadata": {},
     "output_type": "execute_result"
    }
   ],
   "source": [
    "clf()"
   ]
  },
  {
   "cell_type": "markdown",
   "metadata": {},
   "source": [
    "### 7.1 AUTOMATED HYPERPARAMETER WITH HYPEROPT"
   ]
  },
  {
   "cell_type": "code",
   "execution_count": 55,
   "metadata": {},
   "outputs": [],
   "source": [
    "# hpSpace = {'booster':hp.choice('booster',['gbtree','dart']),\n",
    "#            'colsample_bynode':hp.uniform('colsample_bynode',low=0.00,high=1),\n",
    "#            'colsample_bylevel':hp.uniform('colsample_bylevel',low=0.00,high=1),\n",
    "#            'colsample_bytree':hp.uniform('colsample_bytree',low=0.00,high=1),\n",
    "#            'learning_rate':hp.uniform('learning_rate',low=0.00,high=10),\n",
    "#            'max_depth':hpScope.int(hp.quniform('max_depht',low=1,high=15,q=1)),\n",
    "#            'n_estimators':hpScope.int(hp.quniform('n_estimators',low=10000,high=50000,q=1)),\n",
    "#            'subsample':hp.uniform('subsample',low=0.00,high=1)}"
   ]
  },
  {
   "cell_type": "code",
   "execution_count": 56,
   "metadata": {},
   "outputs": [],
   "source": [
    "hpSpace = {'booster':hp.choice('booster',['gbtree','dart']),\n",
    "           'learning_rate':hp.uniform('learning_rate',low=0.00,high=10),\n",
    "           'max_depth':hpScope.int(hp.quniform('max_depht',low=1,high=15,q=1)),\n",
    "           'n_estimators':hpScope.int(hp.quniform('n_estimators',low=10000,high=50000,q=1)),\n",
    "           'subsample':hp.uniform('subsample',low=0.00,high=1)}"
   ]
  },
  {
   "cell_type": "code",
   "execution_count": 57,
   "metadata": {},
   "outputs": [
    {
     "data": {
      "text/plain": [
       "{'booster': 'gbtree',\n",
       " 'learning_rate': 0.04676119108488641,\n",
       " 'max_depth': 2,\n",
       " 'n_estimators': 38906,\n",
       " 'subsample': 0.656413804016786}"
      ]
     },
     "execution_count": 57,
     "metadata": {},
     "output_type": "execute_result"
    }
   ],
   "source": [
    "hpSample(hpSpace)"
   ]
  },
  {
   "cell_type": "markdown",
   "metadata": {},
   "source": [
    "## **8 ORIGINAL MODEL**"
   ]
  },
  {
   "cell_type": "code",
   "execution_count": 68,
   "metadata": {},
   "outputs": [],
   "source": [
    "classifier = clf(booster= 'gbtree',\n",
    "                 learning_rate= 0.04676119108488641,\n",
    "                 max_depth= 2,\n",
    "                 n_estimators= 38906,\n",
    "                 subsample= 0.656413804016786,\n",
    "                 n_jobs=-1)"
   ]
  },
  {
   "cell_type": "code",
   "execution_count": 69,
   "metadata": {},
   "outputs": [
    {
     "data": {
      "text/plain": [
       "['oModels/xgbclf.joblib']"
      ]
     },
     "execution_count": 69,
     "metadata": {},
     "output_type": "execute_result"
    }
   ],
   "source": [
    "classifier = classifier.fit(X,Y)\n",
    "dump(classifier,'oModels/xgbclf.joblib')"
   ]
  },
  {
   "cell_type": "code",
   "execution_count": 70,
   "metadata": {},
   "outputs": [],
   "source": [
    "classifier = load('oModels/xgbclf.joblib')"
   ]
  },
  {
   "cell_type": "code",
   "execution_count": 71,
   "metadata": {},
   "outputs": [],
   "source": [
    "prediction = classifier.predict(nTest)"
   ]
  },
  {
   "cell_type": "code",
   "execution_count": 72,
   "metadata": {},
   "outputs": [
    {
     "data": {
      "text/plain": [
       "array([0, 0, 0, ..., 0, 0, 1])"
      ]
     },
     "execution_count": 72,
     "metadata": {},
     "output_type": "execute_result"
    }
   ],
   "source": [
    "prediction"
   ]
  },
  {
   "cell_type": "code",
   "execution_count": 73,
   "metadata": {},
   "outputs": [],
   "source": [
    "submission = pd.DataFrame({'employee_id':list(test['employee_id']),\n",
    "                          'is_promoted':list(prediction)})"
   ]
  },
  {
   "cell_type": "code",
   "execution_count": 74,
   "metadata": {},
   "outputs": [],
   "source": [
    "submission.to_csv('submission/submission5.csv',index=False)"
   ]
  }
 ],
 "metadata": {
  "kernelspec": {
   "display_name": "Python 3",
   "language": "python",
   "name": "python3"
  },
  "language_info": {
   "codemirror_mode": {
    "name": "ipython",
    "version": 3
   },
   "file_extension": ".py",
   "mimetype": "text/x-python",
   "name": "python",
   "nbconvert_exporter": "python",
   "pygments_lexer": "ipython3",
   "version": "3.6.8"
  }
 },
 "nbformat": 4,
 "nbformat_minor": 4
}
