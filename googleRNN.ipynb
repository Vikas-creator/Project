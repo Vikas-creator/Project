{
 "cells": [
  {
   "cell_type": "markdown",
   "metadata": {},
   "source": [
    "# PREDICTING THE GOOGLE STOCK PRICE\n",
    "- **Here is the link for the data\n",
    "https://finance.yahoo.com/quote/GOOG/history?p=GOOG"
   ]
  },
  {
   "cell_type": "markdown",
   "metadata": {},
   "source": [
    "# LOADING THE LIBRARIES"
   ]
  },
  {
   "cell_type": "code",
   "execution_count": 28,
   "metadata": {},
   "outputs": [],
   "source": [
    "import pandas as pd\n",
    "import numpy as np\n",
    "import matplotlib.pyplot as plt\n",
    "from sklearn.preprocessing import MinMaxScaler\n",
    "from tensorflow.keras.models import Sequential\n",
    "from tensorflow.keras.layers import LSTM\n",
    "from tensorflow.keras.layers import Dense\n",
    "from tensorflow.keras.layers import Dropout\n",
    "from tensorflow.keras import losses\n",
    "from tensorflow.keras import optimizers as opt\n",
    "from tensorflow.keras.models import load_model\n",
    "from sklearn.metrics import mean_squared_error"
   ]
  },
  {
   "cell_type": "markdown",
   "metadata": {},
   "source": [
    "---\n",
    "## 1. DATA PREPROCESSING"
   ]
  },
  {
   "cell_type": "markdown",
   "metadata": {},
   "source": [
    "### 1.2 IMPORTING THE DATASET"
   ]
  },
  {
   "cell_type": "code",
   "execution_count": 2,
   "metadata": {},
   "outputs": [],
   "source": [
    "dataset = pd.read_csv('google.csv')"
   ]
  },
  {
   "cell_type": "code",
   "execution_count": 3,
   "metadata": {},
   "outputs": [],
   "source": [
    "# googleTrain = dataset.iloc[0:dataset.shape[0]-20,:]\n",
    "# googleTest = dataset.iloc[dataset.shape[0]-20:dataset.shape[0],:]\n",
    "# googleTrain.to_csv('googleTrain.csv',index=False)\n",
    "# googleTest.to_csv('googleTest.csv',index=False)"
   ]
  },
  {
   "cell_type": "code",
   "execution_count": 4,
   "metadata": {},
   "outputs": [],
   "source": [
    "googleTrain = pd.read_csv('googleTrain.csv')\n",
    "googleTest = pd.read_csv('googleTest.csv')"
   ]
  },
  {
   "cell_type": "markdown",
   "metadata": {},
   "source": [
    "### 1.2 DATA PREPROCESSING"
   ]
  },
  {
   "cell_type": "code",
   "execution_count": 5,
   "metadata": {},
   "outputs": [],
   "source": [
    "# googleTrain\n",
    "openTrain = np.array(googleTrain.iloc[:,1]).reshape(-1,1)\n",
    "highTrain = np.array(googleTrain.iloc[:,2]).reshape(-1,1)\n",
    "lowTrain = np.array(googleTrain.iloc[:,3]).reshape(-1,1)\n",
    "closeTrain = np.array(googleTrain.iloc[:,4]).reshape(-1,1)\n",
    "# googleTest\n",
    "openTest = np.array(googleTest.iloc[:,1]).reshape(-1,1)\n",
    "highTest = np.array(googleTest.iloc[:,2]).reshape(-1,1)\n",
    "lowTest = np.array(googleTest.iloc[:,3]).reshape(-1,1)\n",
    "closeTest = np.array(googleTest.iloc[:,4]).reshape(-1,1)"
   ]
  },
  {
   "cell_type": "code",
   "execution_count": 6,
   "metadata": {},
   "outputs": [],
   "source": [
    "scale = MinMaxScaler()\n",
    "def preprocessTrain(data,d):\n",
    "    X_train = []\n",
    "    Y_train = []\n",
    "    data = scale.fit_transform(data)\n",
    "    if d == 'X':\n",
    "        for i in np.arange(80,data.shape[0]):\n",
    "            X_train.append(data[i-80:i,0])\n",
    "        X_train = np.array(X_train)\n",
    "        X_train = X_train.reshape(X_train.shape[0],X_train.shape[1],1)\n",
    "        return X_train\n",
    "    elif d == 'Y':\n",
    "        for i in np.arange(80,data.shape[0]):\n",
    "            Y_train.append(data[i,0])\n",
    "        Y_train = np.array(Y_train)\n",
    "        return Y_train"
   ]
  },
  {
   "cell_type": "code",
   "execution_count": 7,
   "metadata": {},
   "outputs": [],
   "source": [
    "def preprocessTest(data,s,l):\n",
    "    data = np.array(data.iloc[data.shape[0]-googleTest.shape[0]-80:,s:l])\n",
    "    X_test = []\n",
    "    data = scale.transform(data)\n",
    "    for i in np.arange(80,data.shape[0]):\n",
    "        X_test.append(data[i-80:i,0])\n",
    "    X_test = np.array(X_test)\n",
    "    X_test = X_test.reshape(X_test.shape[0],X_test.shape[1],1)\n",
    "    return X_test"
   ]
  },
  {
   "cell_type": "code",
   "execution_count": 8,
   "metadata": {},
   "outputs": [],
   "source": [
    "# Open Stock Price\n",
    "# train\n",
    "trainOXS = preprocessTrain(openTrain,'X')\n",
    "trainOYS = preprocessTrain(openTrain,'Y')\n",
    "# test\n",
    "testOXS = preprocessTest(dataset,1,2)"
   ]
  },
  {
   "cell_type": "code",
   "execution_count": 9,
   "metadata": {},
   "outputs": [],
   "source": [
    "# High Stock Price\n",
    "# train\n",
    "trainHXS = preprocessTrain(highTrain,'X')\n",
    "trainHYS = preprocessTrain(highTrain,'Y')\n",
    "# test\n",
    "testHXS = preprocessTest(dataset,2,3)"
   ]
  },
  {
   "cell_type": "code",
   "execution_count": 10,
   "metadata": {},
   "outputs": [],
   "source": [
    "# Low Stock Price\n",
    "# train\n",
    "trainLXS = preprocessTrain(lowTrain,'X')\n",
    "trainLYS = preprocessTrain(lowTrain,'Y')\n",
    "# test\n",
    "testLXS = preprocessTest(dataset,3,4)"
   ]
  },
  {
   "cell_type": "code",
   "execution_count": 11,
   "metadata": {},
   "outputs": [],
   "source": [
    "# Close Stock Price\n",
    "# train\n",
    "trainCXS = preprocessTrain(closeTrain,'X')\n",
    "trainCYS = preprocessTrain(closeTrain,'Y')\n",
    "# test\n",
    "testCXS = preprocessTest(dataset,4,5)"
   ]
  },
  {
   "cell_type": "markdown",
   "metadata": {},
   "source": [
    "---\n",
    "## 2. BUILDING THE RNN"
   ]
  },
  {
   "cell_type": "code",
   "execution_count": 12,
   "metadata": {},
   "outputs": [],
   "source": [
    "# PACKAGES REQUIRED FOR RNN\n",
    "\n",
    "# from tensorflow.keras.models import Sequential\n",
    "# from tensorflow.keras.layers import LSTM\n",
    "# from tensorflow.keras.layers import Dense\n",
    "# from tensorflow.keras.layers import Dropout\n",
    "# from tensorflow.keras.losses import MeanSquaredError\n",
    "# from tensorflow.keras.optimizers import Adam\n",
    "# from tensorflow.keras.models import load_model"
   ]
  },
  {
   "cell_type": "code",
   "execution_count": 13,
   "metadata": {},
   "outputs": [],
   "source": [
    "def lstmRNN():\n",
    "    regressor = Sequential()\n",
    "    regressor.add(LSTM(units=70,return_sequences=True,input_shape=(80,1)))\n",
    "    regressor.add(Dropout(rate=0.2))\n",
    "    regressor.add(LSTM(units=70,return_sequences=True))\n",
    "    regressor.add(Dropout(rate=0.2))\n",
    "    regressor.add(LSTM(units=70,return_sequences=False))\n",
    "    regressor.add(Dropout(rate=0.2))\n",
    "    regressor.add(Dense(units=1))\n",
    "    regressor.compile(optimizer=opt.Adam(),loss=losses.mean_squared_error)\n",
    "    return regressor"
   ]
  },
  {
   "cell_type": "code",
   "execution_count": 16,
   "metadata": {},
   "outputs": [],
   "source": [
    "# models = lstmRNN()\n",
    "# regressor = {}\n",
    "# regressor['open'] = models.fit(trainOXS,trainOYS,epochs=70,batch_size=40)\n",
    "# regressor['high'] = models.fit(trainHXS,trainHYS,epochs=70,batch_size=40)\n",
    "# regressor['low'] = models.fit(trainLXS,trainLYS,epochs=70,batch_size=40)\n",
    "# regressor['close'] = models.fit(trainCXS,trainCYS,epochs=70,batch_size=40)\n",
    "# regressor['open'].model.save('sModel/open.h5')\n",
    "# regressor['high'].model.save('sModel/high.h5')\n",
    "# regressor['low'].model.save('sModel/low.h5')\n",
    "# regressor['close'].model.save('sModel/close.h5')"
   ]
  },
  {
   "cell_type": "code",
   "execution_count": 17,
   "metadata": {},
   "outputs": [],
   "source": [
    "regressor['open'] = load_model('sModel/open.h5')\n",
    "regressor['high'] = load_model('sModel/high.h5')\n",
    "regressor['low'] = load_model('sModel/low.h5')\n",
    "regressor['close'] = load_model('sModel/close.h5')"
   ]
  },
  {
   "cell_type": "code",
   "execution_count": 18,
   "metadata": {},
   "outputs": [],
   "source": [
    "prediction = regressor['open'].predict(testOXS)"
   ]
  },
  {
   "cell_type": "code",
   "execution_count": 20,
   "metadata": {},
   "outputs": [],
   "source": [
    "prediction = scale.inverse_transform(prediction)"
   ]
  },
  {
   "cell_type": "code",
   "execution_count": 21,
   "metadata": {},
   "outputs": [
    {
     "data": {
      "text/plain": [
       "array([[1297.6917],\n",
       "       [1290.4595],\n",
       "       [1293.4333],\n",
       "       [1287.2411],\n",
       "       [1297.2373],\n",
       "       [1300.368 ],\n",
       "       [1295.1326],\n",
       "       [1291.2246],\n",
       "       [1273.8555],\n",
       "       [1297.4645],\n",
       "       [1310.714 ],\n",
       "       [1316.1792],\n",
       "       [1320.5544],\n",
       "       [1323.5702],\n",
       "       [1330.8276],\n",
       "       [1325.6316],\n",
       "       [1328.2423],\n",
       "       [1334.2018],\n",
       "       [1338.9729],\n",
       "       [1333.8065]], dtype=float32)"
      ]
     },
     "execution_count": 21,
     "metadata": {},
     "output_type": "execute_result"
    }
   ],
   "source": [
    "prediction"
   ]
  },
  {
   "cell_type": "code",
   "execution_count": 27,
   "metadata": {},
   "outputs": [
    {
     "data": {
      "image/png": "[encoded data removed]",
      "text/plain": [
       "<Figure size 864x432 with 1 Axes>"
      ]
     },
     "metadata": {
      "needs_background": "light"
     },
     "output_type": "display_data"
    }
   ],
   "source": [
    "plt.figure(figsize=(12,6))\n",
    "plt.plot(openTest,color='red', label='Real')\n",
    "plt.plot(prediction,color='blue', label='Predicted')\n",
    "plt.legend()\n",
    "plt.title('Google Open Stock Price Predictions')\n",
    "plt.xlabel('2019-11-20 to 2019-12-20')\n",
    "plt.ylabel('Price')\n",
    "plt.show()"
   ]
  },
  {
   "cell_type": "code",
   "execution_count": 31,
   "metadata": {},
   "outputs": [],
   "source": [
    "rmse = np.sqrt(mean_squared_error(openTest,prediction))"
   ]
  },
  {
   "cell_type": "code",
   "execution_count": 34,
   "metadata": {},
   "outputs": [
    {
     "name": "stdout",
     "output_type": "stream",
     "text": [
      "20.629779527421125 is RMSE\n"
     ]
    }
   ],
   "source": [
    "print('{0} is RMSE'.format(rmse))"
   ]
  }
 ],
 "metadata": {
  "kernelspec": {
   "display_name": "Python 3",
   "language": "python",
   "name": "python3"
  },
  "language_info": {
   "codemirror_mode": {
    "name": "ipython",
    "version": 3
   },
   "file_extension": ".py",
   "mimetype": "text/x-python",
   "name": "python",
   "nbconvert_exporter": "python",
   "pygments_lexer": "ipython3",
   "version": "3.6.8"
  }
 },
 "nbformat": 4,
 "nbformat_minor": 4
}
