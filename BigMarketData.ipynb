{
 "cells": [
  {
   "cell_type": "markdown",
   "metadata": {},
   "source": [
    "# LOADING THE LIBRARIES"
   ]
  },
  {
   "cell_type": "code",
   "execution_count": 19,
   "metadata": {},
   "outputs": [],
   "source": [
    "import pandas as pd\n",
    "import numpy as np\n",
    "import re\n",
    "import seaborn as sns\n",
    "import matplotlib.pyplot as plt\n",
    "%matplotlib inline\n",
    "from sklearn.preprocessing import StandardScaler\n",
    "from joblib import dump, load\n",
    "from sklearn.model_selection import train_test_split as splt\n",
    "# for decision tree\n",
    "from sklearn.tree import DecisionTreeRegressor\n",
    "from sklearn.model_selection import RandomizedSearchCV, cross_val_score\n",
    "from sklearn.ensemble import ExtraTreesRegressor, GradientBoostingRegressor\n",
    "from xgboost import XGBRegressor\n",
    "# for automated parameter tunning\n",
    "from skopt import gp_minimize"
   ]
  },
  {
   "cell_type": "markdown",
   "metadata": {},
   "source": [
    "## 1 IMPORTING THE DATASET"
   ]
  },
  {
   "cell_type": "code",
   "execution_count": 20,
   "metadata": {},
   "outputs": [],
   "source": [
    "train = pd.read_csv('train.csv')\n",
    "new_train = train.copy()\n",
    "test = pd.read_csv('test.csv')\n",
    "new_test = test.copy()"
   ]
  },
  {
   "cell_type": "markdown",
   "metadata": {},
   "source": [
    "# FEATURE ENGINEERING"
   ]
  },
  {
   "cell_type": "code",
   "execution_count": 21,
   "metadata": {},
   "outputs": [],
   "source": [
    "year = {1985:'aa',\n",
    "        1987:'bb',\n",
    "        1997:'cc',\n",
    "        1998:'dd',\n",
    "        1999:'ee',\n",
    "        2002:'ff',\n",
    "        2004:'gg',\n",
    "        2007:'hh',\n",
    "        2009:'ii'}\n",
    "new_train['Outlet_Establishment_Year'] = new_train['Outlet_Establishment_Year'].map(year)\n",
    "new_test['Outlet_Establishment_Year'] = new_test['Outlet_Establishment_Year'].map(year)"
   ]
  },
  {
   "cell_type": "code",
   "execution_count": 22,
   "metadata": {},
   "outputs": [],
   "source": [
    "data = {'supermarket type1':'type1',\n",
    "       'supermarket type2':'type2',\n",
    "       'supermarket type3':'type3',\n",
    "       'grocery store':'type4'}\n",
    "new_train['Outlet_Type'] = new_train['Outlet_Type'].str.lower().map(data)\n",
    "new_test['Outlet_Type'] = new_test['Outlet_Type'].str.lower().map(data)"
   ]
  },
  {
   "cell_type": "code",
   "execution_count": 23,
   "metadata": {},
   "outputs": [],
   "source": [
    "data = {'low fat':'low_fat',\n",
    "       'lf':'low_fat',\n",
    "       'reg':'regular',\n",
    "       'regular':'regular'}\n",
    "new_train['Item_Fat_Content'] = new_train['Item_Fat_Content'].str.lower().map(data)\n",
    "new_test['Item_Fat_Content'] = new_test['Item_Fat_Content'].str.lower().map(data)"
   ]
  },
  {
   "cell_type": "code",
   "execution_count": 24,
   "metadata": {},
   "outputs": [],
   "source": [
    "data = {'tier 1':'tier_1',\n",
    "       'tier 2':'tier_2',\n",
    "       'tier 3':'tier_3'}\n",
    "new_train['Outlet_Location_Type'] = new_train['Outlet_Location_Type'].str.lower().map(data)\n",
    "new_test['Outlet_Location_Type'] = new_test['Outlet_Location_Type'].str.lower().map(data)"
   ]
  },
  {
   "cell_type": "code",
   "execution_count": 25,
   "metadata": {},
   "outputs": [],
   "source": [
    "new_train['Item_Identifier'] = new_train.Item_Identifier.apply(lambda x: re.search(r'[A-Z]+',x).group())\n",
    "new_test['Item_Identifier'] = new_test.Item_Identifier.apply(lambda x: re.search(r'[A-Z]+',x).group())"
   ]
  },
  {
   "cell_type": "code",
   "execution_count": 26,
   "metadata": {},
   "outputs": [],
   "source": [
    "def convert(data):\n",
    "    for i in list(data.columns):\n",
    "        if np.issubdtype(data[i].dtype, np.object_) == True: \n",
    "            data[i] = data[i].str.upper()\n",
    "    return data\n",
    "new_train = convert(new_train)\n",
    "new_test = convert(new_test)"
   ]
  },
  {
   "cell_type": "code",
   "execution_count": 27,
   "metadata": {},
   "outputs": [],
   "source": [
    "def prepare(test,new_train,column):\n",
    "    for i in list(np.arange(test[column].str.upper().nunique())):\n",
    "        if sorted(new_train[column].str.upper().unique())[i] in sorted(test[column].str.upper().unique()):\n",
    "            continue\n",
    "        else:\n",
    "            new_train = new_train.drop(new_train[new_train[column] == sorted(new_train[column].str.upper().unique())[i]].index)\n",
    "    return new_train"
   ]
  },
  {
   "cell_type": "code",
   "execution_count": 28,
   "metadata": {},
   "outputs": [],
   "source": [
    "new_train = prepare(new_test,new_train,'Item_Identifier')"
   ]
  },
  {
   "cell_type": "code",
   "execution_count": 29,
   "metadata": {},
   "outputs": [],
   "source": [
    "# new_train['Item_Identifier'] = new_train.Item_Identifier.apply(lambda x: re.search(r'[A-Z]+',x).group())\n",
    "# new_test['Item_Identifier'] = new_test.Item_Identifier.apply(lambda x: re.search(r'[A-Z]+',x).group())"
   ]
  },
  {
   "cell_type": "code",
   "execution_count": 30,
   "metadata": {},
   "outputs": [
    {
     "name": "stdout",
     "output_type": "stream",
     "text": [
      "71\n",
      "71\n"
     ]
    }
   ],
   "source": [
    "print(new_train['Item_Identifier'].nunique())\n",
    "print(new_test['Item_Identifier'].nunique())"
   ]
  },
  {
   "cell_type": "code",
   "execution_count": 31,
   "metadata": {},
   "outputs": [],
   "source": [
    "def outlier(data):\n",
    "    qmax = {}\n",
    "    qmin = {}\n",
    "    for i in list(data.columns):\n",
    "        if(np.issubdtype(data[i].dtype, np.number) == True):\n",
    "            iqr = data[i].quantile(0.75) - data[i].quantile(0.25)\n",
    "            qmax[i] = data[i].quantile(0.75) + 1.5*iqr\n",
    "            qmin[i] = data[i].quantile(0.25) - 1.5*iqr\n",
    "\n",
    "    for i in list(data.columns):\n",
    "        if(np.issubdtype(data[i].dtype, np.number) == True):\n",
    "            data = data.drop(data[(data[i] > qmax[i]) | (data[i] < qmin[i])].index)\n",
    "    return data"
   ]
  },
  {
   "cell_type": "code",
   "execution_count": 32,
   "metadata": {},
   "outputs": [],
   "source": [
    "# new_train = outlier(new_train)"
   ]
  },
  {
   "cell_type": "markdown",
   "metadata": {},
   "source": [
    "## FILLING THE NA VALES"
   ]
  },
  {
   "cell_type": "code",
   "execution_count": 33,
   "metadata": {},
   "outputs": [
    {
     "data": {
      "text/plain": [
       "<matplotlib.axes._subplots.AxesSubplot at 0x7f4f01273860>"
      ]
     },
     "execution_count": 33,
     "metadata": {},
     "output_type": "execute_result"
    },
    {
     "data": {
      "image/png": "[encoded data removed]",
      "text/plain": [
       "<Figure size 1008x432 with 1 Axes>"
      ]
     },
     "metadata": {
      "needs_background": "light"
     },
     "output_type": "display_data"
    }
   ],
   "source": [
    "plt.figure(figsize=[14,6])\n",
    "sns.heatmap(new_train.isna(),yticklabels=False,cbar=False,cmap='viridis')"
   ]
  },
  {
   "cell_type": "code",
   "execution_count": 34,
   "metadata": {},
   "outputs": [],
   "source": [
    "new_train.fillna(method='bfill',inplace=True)\n",
    "new_test.fillna(method='bfill',inplace=True)"
   ]
  },
  {
   "cell_type": "code",
   "execution_count": 35,
   "metadata": {},
   "outputs": [
    {
     "name": "stdout",
     "output_type": "stream",
     "text": [
      "(8523, 11)\n",
      "(8523,)\n"
     ]
    }
   ],
   "source": [
    "X = new_train.drop('Item_Outlet_Sales',axis=1)\n",
    "Y = new_train.Item_Outlet_Sales\n",
    "print(X.shape)\n",
    "print(Y.shape)"
   ]
  },
  {
   "cell_type": "code",
   "execution_count": 36,
   "metadata": {},
   "outputs": [
    {
     "data": {
      "image/png": "[encoded data removed]",
      "text/plain": [
       "<Figure size 936x576 with 2 Axes>"
      ]
     },
     "metadata": {
      "needs_background": "light"
     },
     "output_type": "display_data"
    }
   ],
   "source": [
    "plt.figure(figsize=[13,8])\n",
    "plt.title('Person Coeficient Correlation')\n",
    "sns.heatmap(new_train.corr(),linewidths=0.1,vmax=1.0,vmin=-1.0,\n",
    "            cmap='coolwarm',linecolor='white',annot=True,square=True)\n",
    "plt.show()"
   ]
  },
  {
   "cell_type": "markdown",
   "metadata": {},
   "source": [
    "## CREATING DUMMY VARIABLES"
   ]
  },
  {
   "cell_type": "code",
   "execution_count": 19,
   "metadata": {},
   "outputs": [],
   "source": [
    "def dummyVariable(dataset):\n",
    "    col = dataset\n",
    "    for i in list(col.columns):\n",
    "        if np.issubdtype(dataset[i].dtype, np.object_) == True:\n",
    "            data = pd.get_dummies(dataset[i], drop_first= True)\n",
    "            dataset = pd.concat([dataset,data], axis=1)\n",
    "            dataset.drop(i,axis=1,inplace=True)\n",
    "    return dataset"
   ]
  },
  {
   "cell_type": "code",
   "execution_count": 20,
   "metadata": {},
   "outputs": [
    {
     "name": "stdout",
     "output_type": "stream",
     "text": [
      "(8523, 113)\n",
      "(5681, 113)\n"
     ]
    }
   ],
   "source": [
    "X = dummyVariable(X)\n",
    "print(X.shape)\n",
    "new_test = dummyVariable(new_test)\n",
    "print(new_test.shape)"
   ]
  },
  {
   "cell_type": "markdown",
   "metadata": {},
   "source": [
    "## SPLITTING THE DATA INTO TRAIN AND TEST FOR SAMPLE MODELS"
   ]
  },
  {
   "cell_type": "code",
   "execution_count": 21,
   "metadata": {},
   "outputs": [
    {
     "name": "stdout",
     "output_type": "stream",
     "text": [
      "(2000, 113)\n",
      "(6523, 113)\n"
     ]
    }
   ],
   "source": [
    "X_train, X_test, Y_train, Y_test = splt(X, Y, test_size=0.2346, random_state=0)\n",
    "print(X_test.shape)\n",
    "print(X_train.shape)"
   ]
  },
  {
   "cell_type": "markdown",
   "metadata": {},
   "source": [
    "## FEATURE SCALING"
   ]
  },
  {
   "cell_type": "code",
   "execution_count": 22,
   "metadata": {},
   "outputs": [],
   "source": [
    "scale = StandardScaler()"
   ]
  },
  {
   "cell_type": "code",
   "execution_count": 23,
   "metadata": {},
   "outputs": [],
   "source": [
    "def trainScale(train):\n",
    "    data = train\n",
    "    train = scale.fit_transform(train)\n",
    "    train = pd.DataFrame(train, columns=data.columns)\n",
    "    return train\n",
    "\n",
    "def testScale(test):\n",
    "    data = test\n",
    "    test = scale.transform(test)\n",
    "    test = pd.DataFrame(test, columns=data.columns)\n",
    "    return test"
   ]
  },
  {
   "cell_type": "code",
   "execution_count": 24,
   "metadata": {},
   "outputs": [],
   "source": [
    "X = trainScale(X)\n",
    "new_test = testScale(new_test)"
   ]
  },
  {
   "cell_type": "code",
   "execution_count": 25,
   "metadata": {},
   "outputs": [],
   "source": [
    "X_train = testScale(X_train)\n",
    "X_test = testScale(X_test)"
   ]
  },
  {
   "cell_type": "markdown",
   "metadata": {},
   "source": [
    "## SAMPLE MODELS"
   ]
  },
  {
   "cell_type": "code",
   "execution_count": 299,
   "metadata": {},
   "outputs": [],
   "source": [
    "sModels, sPredictions, data = {}, {}, {}"
   ]
  },
  {
   "cell_type": "code",
   "execution_count": 300,
   "metadata": {},
   "outputs": [],
   "source": [
    "data['regressor'] = 'decisionTree,extraTree,gbr,xgb'.split(',')\n",
    "data['name'] = ['sampleModel/decisionTree.joblib',\n",
    "                'sampleModel/extraTree.joblib',\n",
    "                'sampleModel/gbr.joblib',\n",
    "                'sampleModel/xgb.joblib']\n",
    "data['models'] = [DecisionTreeRegressor(),\n",
    "                 ExtraTreesRegressor(n_jobs=-1),\n",
    "                 GradientBoostingRegressor(),\n",
    "                 XGBRegressor(n_jobs=-1)]"
   ]
  },
  {
   "cell_type": "code",
   "execution_count": 301,
   "metadata": {},
   "outputs": [
    {
     "name": "stdout",
     "output_type": "stream",
     "text": [
      "[16:00:11] WARNING: /workspace/src/objective/regression_obj.cu:152: reg:linear is now deprecated in favor of reg:squarederror.\n"
     ]
    }
   ],
   "source": [
    "# regressor[data['regressor'][3]] = data['models'][3]\n",
    "# regressor[data['regressor'][3]] = regressor[data['regressor'][3]].fit(X_train,Y_train)\n",
    "# dump(regressor[data['regressor'][3]],data['name'][3])\n",
    "sModels[data['regressor'][3]] = load(data['name'][3])"
   ]
  },
  {
   "cell_type": "code",
   "execution_count": 302,
   "metadata": {},
   "outputs": [],
   "source": [
    "sPredictions['xgb'] = sModels[data['regressor'][3]].predict(X_test)"
   ]
  },
  {
   "cell_type": "code",
   "execution_count": 303,
   "metadata": {},
   "outputs": [
    {
     "data": {
      "text/plain": [
       "1095.6908320685054"
      ]
     },
     "execution_count": 303,
     "metadata": {},
     "output_type": "execute_result"
    }
   ],
   "source": [
    "rmse = np.sqrt(np.mean(np.square(sPredictions['xgb'] - Y_test),axis=0))\n",
    "rmse"
   ]
  },
  {
   "cell_type": "markdown",
   "metadata": {},
   "source": [
    "### 6.1 CROSS VALIDATION"
   ]
  },
  {
   "cell_type": "code",
   "execution_count": 304,
   "metadata": {},
   "outputs": [],
   "source": [
    "regressor = XGBRegressor()"
   ]
  },
  {
   "cell_type": "code",
   "execution_count": 305,
   "metadata": {},
   "outputs": [],
   "source": [
    "# scores = cross_val_score(regressor, X, Y, cv=10, n_jobs=-1)"
   ]
  },
  {
   "cell_type": "code",
   "execution_count": 306,
   "metadata": {},
   "outputs": [
    {
     "data": {
      "text/plain": [
       "0.5944312823029622"
      ]
     },
     "execution_count": 306,
     "metadata": {},
     "output_type": "execute_result"
    }
   ],
   "source": [
    "scores.mean()"
   ]
  },
  {
   "cell_type": "markdown",
   "metadata": {},
   "source": [
    "### 6.2 HYPERPARAMETER TUNNING"
   ]
  },
  {
   "cell_type": "code",
   "execution_count": 307,
   "metadata": {},
   "outputs": [],
   "source": [
    "regressor = XGBRegressor()"
   ]
  },
  {
   "cell_type": "code",
   "execution_count": 308,
   "metadata": {},
   "outputs": [],
   "source": [
    "params = {'learning_rate':list(np.arange(0.01,1.01,0.01)),\n",
    "         'n_estimators':list(np.arange(100,500,1)),\n",
    "         'max_depth':list(np.arange(1,11,1)),\n",
    "         'subsample':list(np.arange(0.1,1.1,0.1))}"
   ]
  },
  {
   "cell_type": "code",
   "execution_count": 314,
   "metadata": {},
   "outputs": [],
   "source": [
    "randomSearch = RandomizedSearchCV(regressor, params, cv=10,n_jobs=-1)"
   ]
  },
  {
   "cell_type": "code",
   "execution_count": 315,
   "metadata": {},
   "outputs": [
    {
     "name": "stderr",
     "output_type": "stream",
     "text": [
      "/usr/local/lib/python3.6/dist-packages/sklearn/model_selection/_search.py:814: DeprecationWarning: The default of the `iid` parameter will change from True to False in version 0.22 and will be removed in 0.24. This will change numeric results when test-set sizes are unequal.\n",
      "  DeprecationWarning)\n",
      "/usr/local/lib/python3.6/dist-packages/xgboost/core.py:587: FutureWarning: Series.base is deprecated and will be removed in a future version\n",
      "  if getattr(data, 'base', None) is not None and \\\n",
      "/usr/local/lib/python3.6/dist-packages/xgboost/core.py:588: FutureWarning: Series.base is deprecated and will be removed in a future version\n",
      "  data.base is not None and isinstance(data, np.ndarray) \\\n"
     ]
    },
    {
     "name": "stdout",
     "output_type": "stream",
     "text": [
      "[16:07:29] WARNING: /workspace/src/objective/regression_obj.cu:152: reg:linear is now deprecated in favor of reg:squarederror.\n"
     ]
    }
   ],
   "source": [
    "randomSearch = randomSearch.fit(X,Y)"
   ]
  },
  {
   "cell_type": "code",
   "execution_count": 316,
   "metadata": {},
   "outputs": [
    {
     "data": {
      "text/plain": [
       "['originalModel/xgbtune.joblib']"
      ]
     },
     "execution_count": 316,
     "metadata": {},
     "output_type": "execute_result"
    }
   ],
   "source": [
    "# dump(randomSearch,'originalModel/xgbtune.joblib')"
   ]
  },
  {
   "cell_type": "code",
   "execution_count": 26,
   "metadata": {},
   "outputs": [
    {
     "name": "stdout",
     "output_type": "stream",
     "text": [
      "[07:27:42] WARNING: /workspace/src/objective/regression_obj.cu:152: reg:linear is now deprecated in favor of reg:squarederror.\n"
     ]
    }
   ],
   "source": [
    "randomSearch = load('originalModel/xgbtune.joblib')"
   ]
  },
  {
   "cell_type": "code",
   "execution_count": 318,
   "metadata": {},
   "outputs": [
    {
     "name": "stdout",
     "output_type": "stream",
     "text": [
      "{'subsample': 0.8, 'n_estimators': 257, 'max_depth': 6, 'learning_rate': 0.03}\n",
      "0.5823434962249664\n"
     ]
    }
   ],
   "source": [
    "print(randomSearch.best_params_)\n",
    "print(randomSearch.best_score_)"
   ]
  },
  {
   "cell_type": "markdown",
   "metadata": {},
   "source": [
    "### 6.3 PREDICTIONS"
   ]
  },
  {
   "cell_type": "code",
   "execution_count": 29,
   "metadata": {},
   "outputs": [
    {
     "name": "stderr",
     "output_type": "stream",
     "text": [
      "/usr/local/lib/python3.6/dist-packages/xgboost/core.py:587: FutureWarning: Series.base is deprecated and will be removed in a future version\n",
      "  if getattr(data, 'base', None) is not None and \\\n",
      "/usr/local/lib/python3.6/dist-packages/xgboost/core.py:588: FutureWarning: Series.base is deprecated and will be removed in a future version\n",
      "  data.base is not None and isinstance(data, np.ndarray) \\\n"
     ]
    },
    {
     "name": "stdout",
     "output_type": "stream",
     "text": [
      "[07:35:32] WARNING: /workspace/src/objective/regression_obj.cu:152: reg:linear is now deprecated in favor of reg:squarederror.\n"
     ]
    }
   ],
   "source": [
    "regressor = XGBRegressor(subsample=0.8,n_estimators=257,\n",
    "                        max_depth=6,learning_rate=0.03,n_jobs=-1)\n",
    "regressor = regressor.fit(X,Y)\n",
    "predictions = regressor.predict(new_test)\n",
    "submission = pd.DataFrame({'Item_Identifier':list(test.Item_Identifier),\n",
    "                          'Outlet_Identifier':list(test.Outlet_Identifier),\n",
    "                          'Item_Outlet_Sales':list(predictions)})"
   ]
  },
  {
   "cell_type": "code",
   "execution_count": 31,
   "metadata": {},
   "outputs": [],
   "source": [
    "submission.to_csv('submission/submission5.csv',index=False)"
   ]
  },
  {
   "cell_type": "markdown",
   "metadata": {},
   "source": [
    "## ORIGINAL MODELS"
   ]
  },
  {
   "cell_type": "code",
   "execution_count": 175,
   "metadata": {},
   "outputs": [],
   "source": [
    "oModels, oPredictions = {}, {}"
   ]
  },
  {
   "cell_type": "code",
   "execution_count": 176,
   "metadata": {},
   "outputs": [
    {
     "name": "stderr",
     "output_type": "stream",
     "text": [
      "/usr/local/lib/python3.6/dist-packages/sklearn/ensemble/forest.py:245: FutureWarning: The default value of n_estimators will change from 10 in version 0.20 to 100 in 0.22.\n",
      "  \"10 in version 0.20 to 100 in 0.22.\", FutureWarning)\n",
      "/usr/local/lib/python3.6/dist-packages/xgboost/core.py:587: FutureWarning: Series.base is deprecated and will be removed in a future version\n",
      "  if getattr(data, 'base', None) is not None and \\\n",
      "/usr/local/lib/python3.6/dist-packages/xgboost/core.py:588: FutureWarning: Series.base is deprecated and will be removed in a future version\n",
      "  data.base is not None and isinstance(data, np.ndarray) \\\n"
     ]
    },
    {
     "name": "stdout",
     "output_type": "stream",
     "text": [
      "[08:26:35] WARNING: /workspace/src/objective/regression_obj.cu:152: reg:linear is now deprecated in favor of reg:squarederror.\n",
      "[08:26:37] WARNING: /workspace/src/objective/regression_obj.cu:152: reg:linear is now deprecated in favor of reg:squarederror.\n"
     ]
    }
   ],
   "source": [
    "data['regressor'] = 'decisionTree,extraTree,gbr,xgb'.split(',')\n",
    "data['name'] = ['originalModel/decisionTree.joblib',\n",
    "                'originalModel/extraTree.joblib',\n",
    "                'originalModel/gbr.joblib',\n",
    "                'originalModel/xgb.joblib']\n",
    "data['models'] = [DecisionTreeRegressor(),\n",
    "                 ExtraTreesRegressor(n_jobs=-1),\n",
    "                 GradientBoostingRegressor(),\n",
    "                 XGBRegressor(n_jobs=-1)]\n",
    "for i in np.arange(0,4):\n",
    "    regressor = data['models'][i]\n",
    "    regressor = regressor.fit(X,Y)\n",
    "    dump(regressor,data['name'][i])"
   ]
  },
  {
   "cell_type": "code",
   "execution_count": null,
   "metadata": {},
   "outputs": [],
   "source": [
    "for i in np.arange(0,4):\n",
    "    oModels[data['regressor'][i]] = load(data['name'][i])"
   ]
  },
  {
   "cell_type": "code",
   "execution_count": 177,
   "metadata": {},
   "outputs": [],
   "source": [
    "# print('Decision Tree:',oModels['decisionTree'].best_score_)\n",
    "# print('Xtreme Random Forest Tree:',oModels['extraTree'].best_score_)\n",
    "# print('Gradient Boosting:',oModels['gbr'].best_score_)\n",
    "# print('Xtreme Gradient Boosting',oModels['xgb'].best_score_)"
   ]
  },
  {
   "cell_type": "code",
   "execution_count": 178,
   "metadata": {},
   "outputs": [],
   "source": [
    "data['submission'] = ['submission/submission1.csv',\n",
    "                      'submission/submission2.csv',\n",
    "                      'submission/submission3.csv',\n",
    "                      'submission/submission4.csv']\n",
    "for i in np.arange(0,4):\n",
    "    oPredictions = oModels[data['regressor'][i]].predict(new_test)\n",
    "    submission = pd.DataFrame({'Item_Identifier':list(test.Item_Identifier),\n",
    "                              'Outlet_Identifier':list(test.Outlet_Identifier),\n",
    "                              'Item_Outlet_Sales':list(oPredictions)})\n",
    "    submission.to_csv(data['submission'][i],index=False)"
   ]
  }
 ],
 "metadata": {
  "kernelspec": {
   "display_name": "Python 3",
   "language": "python",
   "name": "python3"
  },
  "language_info": {
   "codemirror_mode": {
    "name": "ipython",
    "version": 3
   },
   "file_extension": ".py",
   "mimetype": "text/x-python",
   "name": "python",
   "nbconvert_exporter": "python",
   "pygments_lexer": "ipython3",
   "version": "3.6.8"
  }
 },
 "nbformat": 4,
 "nbformat_minor": 4
}
