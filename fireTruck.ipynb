{
 "cells": [
  {
   "cell_type": "code",
   "execution_count": 69,
   "metadata": {},
   "outputs": [],
   "source": [
    "import pandas as pd\n",
    "import numpy as np\n",
    "from forex_python.converter import CurrencyRates\n",
    "import re\n",
    "from datetime import datetime\n",
    "import openpyxl"
   ]
  },
  {
   "cell_type": "code",
   "execution_count": 70,
   "metadata": {},
   "outputs": [],
   "source": [
    "data = pd.read_csv('analyticsAssignmentData.csv',na_values=np.NAN)"
   ]
  },
  {
   "cell_type": "markdown",
   "metadata": {},
   "source": [
    "## 1 EXPLORING THE DATASET"
   ]
  },
  {
   "cell_type": "code",
   "execution_count": 71,
   "metadata": {},
   "outputs": [
    {
     "data": {
      "text/html": [
       "<div>\n",
       "<style scoped>\n",
       "    .dataframe tbody tr th:only-of-type {\n",
       "        vertical-align: middle;\n",
       "    }\n",
       "\n",
       "    .dataframe tbody tr th {\n",
       "        vertical-align: top;\n",
       "    }\n",
       "\n",
       "    .dataframe thead th {\n",
       "        text-align: right;\n",
       "    }\n",
       "</style>\n",
       "<table border=\"1\" class=\"dataframe\">\n",
       "  <thead>\n",
       "    <tr style=\"text-align: right;\">\n",
       "      <th></th>\n",
       "      <th>eventTimestamp</th>\n",
       "      <th>userID</th>\n",
       "      <th>sessionID</th>\n",
       "      <th>platform</th>\n",
       "      <th>userCountry</th>\n",
       "      <th>realCurrencyAmount</th>\n",
       "      <th>realCurrencyAmount.1</th>\n",
       "      <th>realCurrencyType</th>\n",
       "    </tr>\n",
       "  </thead>\n",
       "  <tbody>\n",
       "    <tr>\n",
       "      <th>0</th>\n",
       "      <td>2019-11-1 0:36:27</td>\n",
       "      <td>16707</td>\n",
       "      <td>NaN</td>\n",
       "      <td>ANDROID</td>\n",
       "      <td>NaN</td>\n",
       "      <td>1998</td>\n",
       "      <td>19.98</td>\n",
       "      <td>AUD</td>\n",
       "    </tr>\n",
       "    <tr>\n",
       "      <th>1</th>\n",
       "      <td>2019-11-1 1:37:4</td>\n",
       "      <td>25142</td>\n",
       "      <td>c13fd09a-cce2-419f-9f1e-533258c19d61</td>\n",
       "      <td>ANDROID</td>\n",
       "      <td>US</td>\n",
       "      <td>499</td>\n",
       "      <td>4.99</td>\n",
       "      <td>USD</td>\n",
       "    </tr>\n",
       "    <tr>\n",
       "      <th>2</th>\n",
       "      <td>2019-11-1 1:37:46</td>\n",
       "      <td>25142</td>\n",
       "      <td>c13fd09a-cce2-419f-9f1e-533258c19d61</td>\n",
       "      <td>ANDROID</td>\n",
       "      <td>US</td>\n",
       "      <td>499</td>\n",
       "      <td>4.99</td>\n",
       "      <td>USD</td>\n",
       "    </tr>\n",
       "    <tr>\n",
       "      <th>3</th>\n",
       "      <td>2019-11-1 2:16:25</td>\n",
       "      <td>101530</td>\n",
       "      <td>NaN</td>\n",
       "      <td>ANDROID</td>\n",
       "      <td>NaN</td>\n",
       "      <td>1249</td>\n",
       "      <td>12.49</td>\n",
       "      <td>USD</td>\n",
       "    </tr>\n",
       "    <tr>\n",
       "      <th>4</th>\n",
       "      <td>2019-11-1 2:58:7</td>\n",
       "      <td>102640</td>\n",
       "      <td>6fe2173d-923b-4590-b1a3-797904672d11</td>\n",
       "      <td>ANDROID</td>\n",
       "      <td>US</td>\n",
       "      <td>499</td>\n",
       "      <td>4.99</td>\n",
       "      <td>USD</td>\n",
       "    </tr>\n",
       "  </tbody>\n",
       "</table>\n",
       "</div>"
      ],
      "text/plain": [
       "      eventTimestamp  userID                             sessionID platform  \\\n",
       "0  2019-11-1 0:36:27   16707                                   NaN  ANDROID   \n",
       "1   2019-11-1 1:37:4   25142  c13fd09a-cce2-419f-9f1e-533258c19d61  ANDROID   \n",
       "2  2019-11-1 1:37:46   25142  c13fd09a-cce2-419f-9f1e-533258c19d61  ANDROID   \n",
       "3  2019-11-1 2:16:25  101530                                   NaN  ANDROID   \n",
       "4   2019-11-1 2:58:7  102640  6fe2173d-923b-4590-b1a3-797904672d11  ANDROID   \n",
       "\n",
       "  userCountry  realCurrencyAmount  realCurrencyAmount.1 realCurrencyType  \n",
       "0         NaN                1998                 19.98              AUD  \n",
       "1          US                 499                  4.99              USD  \n",
       "2          US                 499                  4.99              USD  \n",
       "3         NaN                1249                 12.49              USD  \n",
       "4          US                 499                  4.99              USD  "
      ]
     },
     "execution_count": 71,
     "metadata": {},
     "output_type": "execute_result"
    }
   ],
   "source": [
    "data.head()"
   ]
  },
  {
   "cell_type": "code",
   "execution_count": 72,
   "metadata": {},
   "outputs": [
    {
     "name": "stdout",
     "output_type": "stream",
     "text": [
      "<class 'pandas.core.frame.DataFrame'>\n",
      "RangeIndex: 3000 entries, 0 to 2999\n",
      "Data columns (total 8 columns):\n",
      "eventTimestamp          3000 non-null object\n",
      "userID                  3000 non-null int64\n",
      "sessionID               2862 non-null object\n",
      "platform                3000 non-null object\n",
      "userCountry             2862 non-null object\n",
      "realCurrencyAmount      3000 non-null int64\n",
      "realCurrencyAmount.1    3000 non-null float64\n",
      "realCurrencyType        1000 non-null object\n",
      "dtypes: float64(1), int64(2), object(5)\n",
      "memory usage: 187.6+ KB\n"
     ]
    }
   ],
   "source": [
    "data.info()"
   ]
  },
  {
   "cell_type": "markdown",
   "metadata": {},
   "source": [
    "## 2 FEATURE MANIPULATION"
   ]
  },
  {
   "cell_type": "code",
   "execution_count": 73,
   "metadata": {},
   "outputs": [],
   "source": [
    "data.eventTimestamp = data.eventTimestamp.astype(np.datetime64)\n",
    "data.userID = data.userID.astype(np.object_)"
   ]
  },
  {
   "cell_type": "code",
   "execution_count": 74,
   "metadata": {},
   "outputs": [],
   "source": [
    "data.drop('realCurrencyAmount',axis=1,inplace=True)"
   ]
  },
  {
   "cell_type": "code",
   "execution_count": 75,
   "metadata": {},
   "outputs": [],
   "source": [
    "data.rename({'realCurrencyAmount.1':'realCurrencyAmount'},axis=1,inplace=True)"
   ]
  },
  {
   "cell_type": "code",
   "execution_count": 76,
   "metadata": {},
   "outputs": [
    {
     "data": {
      "text/html": [
       "<div>\n",
       "<style scoped>\n",
       "    .dataframe tbody tr th:only-of-type {\n",
       "        vertical-align: middle;\n",
       "    }\n",
       "\n",
       "    .dataframe tbody tr th {\n",
       "        vertical-align: top;\n",
       "    }\n",
       "\n",
       "    .dataframe thead th {\n",
       "        text-align: right;\n",
       "    }\n",
       "</style>\n",
       "<table border=\"1\" class=\"dataframe\">\n",
       "  <thead>\n",
       "    <tr style=\"text-align: right;\">\n",
       "      <th></th>\n",
       "      <th>eventTimestamp</th>\n",
       "      <th>userID</th>\n",
       "      <th>sessionID</th>\n",
       "      <th>platform</th>\n",
       "      <th>userCountry</th>\n",
       "      <th>realCurrencyType</th>\n",
       "    </tr>\n",
       "  </thead>\n",
       "  <tbody>\n",
       "    <tr>\n",
       "      <th>count</th>\n",
       "      <td>3000</td>\n",
       "      <td>3000.0</td>\n",
       "      <td>2862</td>\n",
       "      <td>3000</td>\n",
       "      <td>2862</td>\n",
       "      <td>1000</td>\n",
       "    </tr>\n",
       "    <tr>\n",
       "      <th>unique</th>\n",
       "      <td>2811</td>\n",
       "      <td>522.0</td>\n",
       "      <td>966</td>\n",
       "      <td>2</td>\n",
       "      <td>26</td>\n",
       "      <td>15</td>\n",
       "    </tr>\n",
       "    <tr>\n",
       "      <th>top</th>\n",
       "      <td>2019-11-26 12:02:26</td>\n",
       "      <td>20057.0</td>\n",
       "      <td>b948f791-6c95-4d9b-9686-1339c1d4540e</td>\n",
       "      <td>IOS</td>\n",
       "      <td>US</td>\n",
       "      <td>USD</td>\n",
       "    </tr>\n",
       "    <tr>\n",
       "      <th>freq</th>\n",
       "      <td>4</td>\n",
       "      <td>328.0</td>\n",
       "      <td>35</td>\n",
       "      <td>1696</td>\n",
       "      <td>1244</td>\n",
       "      <td>462</td>\n",
       "    </tr>\n",
       "    <tr>\n",
       "      <th>first</th>\n",
       "      <td>2019-11-01 00:36:27</td>\n",
       "      <td>NaN</td>\n",
       "      <td>NaN</td>\n",
       "      <td>NaN</td>\n",
       "      <td>NaN</td>\n",
       "      <td>NaN</td>\n",
       "    </tr>\n",
       "    <tr>\n",
       "      <th>last</th>\n",
       "      <td>2019-11-30 23:50:24</td>\n",
       "      <td>NaN</td>\n",
       "      <td>NaN</td>\n",
       "      <td>NaN</td>\n",
       "      <td>NaN</td>\n",
       "      <td>NaN</td>\n",
       "    </tr>\n",
       "  </tbody>\n",
       "</table>\n",
       "</div>"
      ],
      "text/plain": [
       "             eventTimestamp   userID                             sessionID  \\\n",
       "count                  3000   3000.0                                  2862   \n",
       "unique                 2811    522.0                                   966   \n",
       "top     2019-11-26 12:02:26  20057.0  b948f791-6c95-4d9b-9686-1339c1d4540e   \n",
       "freq                      4    328.0                                    35   \n",
       "first   2019-11-01 00:36:27      NaN                                   NaN   \n",
       "last    2019-11-30 23:50:24      NaN                                   NaN   \n",
       "\n",
       "       platform userCountry realCurrencyType  \n",
       "count      3000        2862             1000  \n",
       "unique        2          26               15  \n",
       "top         IOS          US              USD  \n",
       "freq       1696        1244              462  \n",
       "first       NaN         NaN              NaN  \n",
       "last        NaN         NaN              NaN  "
      ]
     },
     "execution_count": 76,
     "metadata": {},
     "output_type": "execute_result"
    }
   ],
   "source": [
    "data.describe(exclude='number')"
   ]
  },
  {
   "cell_type": "code",
   "execution_count": 77,
   "metadata": {},
   "outputs": [
    {
     "data": {
      "text/html": [
       "<div>\n",
       "<style scoped>\n",
       "    .dataframe tbody tr th:only-of-type {\n",
       "        vertical-align: middle;\n",
       "    }\n",
       "\n",
       "    .dataframe tbody tr th {\n",
       "        vertical-align: top;\n",
       "    }\n",
       "\n",
       "    .dataframe thead th {\n",
       "        text-align: right;\n",
       "    }\n",
       "</style>\n",
       "<table border=\"1\" class=\"dataframe\">\n",
       "  <thead>\n",
       "    <tr style=\"text-align: right;\">\n",
       "      <th></th>\n",
       "      <th>realCurrencyAmount</th>\n",
       "    </tr>\n",
       "  </thead>\n",
       "  <tbody>\n",
       "    <tr>\n",
       "      <th>count</th>\n",
       "      <td>3000.000000</td>\n",
       "    </tr>\n",
       "    <tr>\n",
       "      <th>mean</th>\n",
       "      <td>9.694010</td>\n",
       "    </tr>\n",
       "    <tr>\n",
       "      <th>std</th>\n",
       "      <td>66.165425</td>\n",
       "    </tr>\n",
       "    <tr>\n",
       "      <th>min</th>\n",
       "      <td>0.000000</td>\n",
       "    </tr>\n",
       "    <tr>\n",
       "      <th>25%</th>\n",
       "      <td>0.000000</td>\n",
       "    </tr>\n",
       "    <tr>\n",
       "      <th>50%</th>\n",
       "      <td>0.000000</td>\n",
       "    </tr>\n",
       "    <tr>\n",
       "      <th>75%</th>\n",
       "      <td>4.990000</td>\n",
       "    </tr>\n",
       "    <tr>\n",
       "      <th>max</th>\n",
       "      <td>1590.000000</td>\n",
       "    </tr>\n",
       "  </tbody>\n",
       "</table>\n",
       "</div>"
      ],
      "text/plain": [
       "       realCurrencyAmount\n",
       "count         3000.000000\n",
       "mean             9.694010\n",
       "std             66.165425\n",
       "min              0.000000\n",
       "25%              0.000000\n",
       "50%              0.000000\n",
       "75%              4.990000\n",
       "max           1590.000000"
      ]
     },
     "execution_count": 77,
     "metadata": {},
     "output_type": "execute_result"
    }
   ],
   "source": [
    "data.describe()"
   ]
  },
  {
   "cell_type": "markdown",
   "metadata": {},
   "source": [
    "### 2.1 FILLING NA VALUES"
   ]
  },
  {
   "cell_type": "code",
   "execution_count": 78,
   "metadata": {},
   "outputs": [],
   "source": [
    "countryCode = ['US', 'DK', 'CA', 'CH', 'FR',\n",
    "               'DE', 'GB', 'NL', 'SE', 'AU',\n",
    "               'ES', 'BE', 'RU', 'AT', 'GR',\n",
    "               'NO', 'IE', 'BY', 'BR', 'NZ',\n",
    "               'LV','JP']\n",
    "countryCurrency = ['USD', 'DKK', 'CAD', 'CHF', 'EUR',\n",
    "                   'EUR', 'GBP', 'EUR', 'SEK', 'AUD',\n",
    "                   'EUR', 'EUR', 'RUB', 'EUR', 'USD',\n",
    "                   'NOK', 'EUR', 'USD', 'BRL', 'NZD',\n",
    "                   'EUR', 'JPY']"
   ]
  },
  {
   "cell_type": "code",
   "execution_count": 79,
   "metadata": {},
   "outputs": [],
   "source": [
    "for i, j in zip(countryCode,countryCurrency):\n",
    "    data.loc[(data.realCurrencyType.isna()) & (data.userCountry == i),'realCurrencyType'] = j"
   ]
  },
  {
   "cell_type": "code",
   "execution_count": 80,
   "metadata": {},
   "outputs": [],
   "source": [
    "for i, j in zip(countryCode,countryCurrency):\n",
    "    data.loc[(data.realCurrencyType == j) & (data.userCountry.isna()),'userCountry'] = i"
   ]
  },
  {
   "cell_type": "code",
   "execution_count": 81,
   "metadata": {},
   "outputs": [],
   "source": [
    "data.loc[(data.realCurrencyType == 'TWD') & (data.userCountry.isna()),'userCountry'] = 'TW'\n",
    "data.loc[(data.realCurrencyType == 'THB') & (data.userCountry.isna()),'userCountry'] = 'TH'"
   ]
  },
  {
   "cell_type": "code",
   "execution_count": 82,
   "metadata": {},
   "outputs": [
    {
     "name": "stdout",
     "output_type": "stream",
     "text": [
      "27\n",
      "['AT' 'AU' 'BE' 'BR' 'BY' 'CA' 'CH' 'DE' 'DK' 'ES' 'FI' 'FR' 'GB' 'GR'\n",
      " 'HU' 'IE' 'IT' 'JP' 'LV' 'NL' 'NO' 'NZ' 'RU' 'SE' 'TH' 'TW' 'US']\n"
     ]
    }
   ],
   "source": [
    "print(data.userCountry.nunique())\n",
    "print(np.sort(data.userCountry.unique()))"
   ]
  },
  {
   "cell_type": "code",
   "execution_count": 83,
   "metadata": {},
   "outputs": [],
   "source": [
    "code = {'AT':'EUR', 'AU':'AUD', 'BE':'EUR', 'BR':'BRL', 'BY':'USD',\n",
    "        'CA':'CAD', 'CH':'CHF', 'DE':'EUR', 'DK':'DKK', 'ES':'EUR',\n",
    "        'FI':'EUR', 'FR':'EUR', 'GB':'GBP', 'GR':'USD', 'HU':'HUF',\n",
    "        'IE':'EUR', 'IT':'EUR', 'JP':'JPY', 'LV':'EUR', 'NL':'EUR',\n",
    "        'NO':'NOK', 'NZ':'NZD', 'RU':'RUB', 'SE':'SEK', 'TH':'THB',\n",
    "        'TW':'TWD', 'US':'USD'}"
   ]
  },
  {
   "cell_type": "code",
   "execution_count": 84,
   "metadata": {},
   "outputs": [],
   "source": [
    "data.loc[:,'realCurrencyType'] = data.userCountry.map(code)"
   ]
  },
  {
   "cell_type": "markdown",
   "metadata": {},
   "source": [
    "## 3 CREATING NEW COLUMN FOR CONVERSION TO USD"
   ]
  },
  {
   "cell_type": "code",
   "execution_count": 85,
   "metadata": {},
   "outputs": [],
   "source": [
    "c = CurrencyRates()"
   ]
  },
  {
   "cell_type": "code",
   "execution_count": 86,
   "metadata": {},
   "outputs": [],
   "source": [
    "date = data.eventTimestamp.astype(np.str_)"
   ]
  },
  {
   "cell_type": "code",
   "execution_count": 87,
   "metadata": {},
   "outputs": [],
   "source": [
    "data['usdCurrency'] = np.NaN"
   ]
  },
  {
   "cell_type": "code",
   "execution_count": 88,
   "metadata": {},
   "outputs": [],
   "source": [
    "# for i in np.arange(0, len(data.index)):\n",
    "#     base = data.loc[i, 'realCurrencyType']\n",
    "#     if(base != 'TWD'):\n",
    "#         amount = data.loc[i, 'realCurrencyAmount']\n",
    "#         date1 = re.findall(r'[0-9]+',date[i])\n",
    "#         date1 = list(map(int, date1))\n",
    "#         usd = c.convert(base, 'USD', amount, datetime(date1[0],date1[1],date1[2],date1[3],date1[4],date1[5]))\n",
    "#         data.loc[i,'usdCurrency'] = np.round(usd,2)\n",
    "# for i in np.arange(0, 3000):\n",
    "#     base = data.loc[i, 'realCurrencyType']\n",
    "#     if(base != 'TWD'):\n",
    "#         amount = data.loc[i, 'realCurrencyAmount']\n",
    "#         date1 = re.findall(r'[0-9]+',date[i])\n",
    "#         date1 = list(map(int, date1))\n",
    "#         usd = c.convert(base, 'USD', amount, datetime(date1[0],date1[1],date1[2],date1[3],date1[4],date1[5]))\n",
    "#         print(i,'=',np.round(usd, decimals=2))"
   ]
  },
  {
   "cell_type": "code",
   "execution_count": 89,
   "metadata": {},
   "outputs": [
    {
     "data": {
      "text/html": [
       "<div>\n",
       "<style scoped>\n",
       "    .dataframe tbody tr th:only-of-type {\n",
       "        vertical-align: middle;\n",
       "    }\n",
       "\n",
       "    .dataframe tbody tr th {\n",
       "        vertical-align: top;\n",
       "    }\n",
       "\n",
       "    .dataframe thead th {\n",
       "        text-align: right;\n",
       "    }\n",
       "</style>\n",
       "<table border=\"1\" class=\"dataframe\">\n",
       "  <thead>\n",
       "    <tr style=\"text-align: right;\">\n",
       "      <th></th>\n",
       "      <th>eventTimestamp</th>\n",
       "      <th>userID</th>\n",
       "      <th>sessionID</th>\n",
       "      <th>platform</th>\n",
       "      <th>userCountry</th>\n",
       "      <th>realCurrencyAmount</th>\n",
       "      <th>realCurrencyType</th>\n",
       "      <th>usdCurrency</th>\n",
       "    </tr>\n",
       "  </thead>\n",
       "  <tbody>\n",
       "    <tr>\n",
       "      <th>104</th>\n",
       "      <td>2019-11-02 10:41:04</td>\n",
       "      <td>17188</td>\n",
       "      <td>NaN</td>\n",
       "      <td>IOS</td>\n",
       "      <td>TW</td>\n",
       "      <td>400.0</td>\n",
       "      <td>TWD</td>\n",
       "      <td>NaN</td>\n",
       "    </tr>\n",
       "    <tr>\n",
       "      <th>435</th>\n",
       "      <td>2019-11-07 13:56:21</td>\n",
       "      <td>18933</td>\n",
       "      <td>NaN</td>\n",
       "      <td>ANDROID</td>\n",
       "      <td>TW</td>\n",
       "      <td>410.0</td>\n",
       "      <td>TWD</td>\n",
       "      <td>NaN</td>\n",
       "    </tr>\n",
       "    <tr>\n",
       "      <th>1619</th>\n",
       "      <td>2019-11-23 12:26:22</td>\n",
       "      <td>36483</td>\n",
       "      <td>NaN</td>\n",
       "      <td>ANDROID</td>\n",
       "      <td>TW</td>\n",
       "      <td>410.0</td>\n",
       "      <td>TWD</td>\n",
       "      <td>NaN</td>\n",
       "    </tr>\n",
       "  </tbody>\n",
       "</table>\n",
       "</div>"
      ],
      "text/plain": [
       "          eventTimestamp userID sessionID platform userCountry  \\\n",
       "104  2019-11-02 10:41:04  17188       NaN      IOS          TW   \n",
       "435  2019-11-07 13:56:21  18933       NaN  ANDROID          TW   \n",
       "1619 2019-11-23 12:26:22  36483       NaN  ANDROID          TW   \n",
       "\n",
       "      realCurrencyAmount realCurrencyType  usdCurrency  \n",
       "104                400.0              TWD          NaN  \n",
       "435                410.0              TWD          NaN  \n",
       "1619               410.0              TWD          NaN  "
      ]
     },
     "execution_count": 89,
     "metadata": {},
     "output_type": "execute_result"
    }
   ],
   "source": [
    "data.loc[data.realCurrencyType == 'TWD',:]"
   ]
  },
  {
   "cell_type": "markdown",
   "metadata": {},
   "source": [
    "**Not gonna make loop for only three rows**\n",
    "- **rate of taiwan dollar on 2, 7 and 23 were same 0.033**"
   ]
  },
  {
   "cell_type": "code",
   "execution_count": 90,
   "metadata": {},
   "outputs": [],
   "source": [
    "data.loc[(data.realCurrencyType == 'TWD') & (data.platform == 'IOS'),'usdCurrency'] = np.round(400*0.033,2)\n",
    "data.loc[(data.realCurrencyType == 'TWD') & (data.platform == 'ANDROID'),'usdCurrency'] = np.round(410*0.033,2)"
   ]
  },
  {
   "cell_type": "markdown",
   "metadata": {},
   "source": [
    "### saving into csv file so we can restore for analysis"
   ]
  },
  {
   "cell_type": "code",
   "execution_count": 91,
   "metadata": {},
   "outputs": [],
   "source": [
    "# data.to_csv('newData.csv',index=False)"
   ]
  },
  {
   "cell_type": "code",
   "execution_count": 92,
   "metadata": {},
   "outputs": [],
   "source": [
    "data = pd.read_csv('newData.csv',na_values=np.NaN)"
   ]
  },
  {
   "cell_type": "markdown",
   "metadata": {},
   "source": [
    "---"
   ]
  },
  {
   "cell_type": "markdown",
   "metadata": {},
   "source": [
    "#### **Now Data is ready for Analysis of Questions asked:**\n",
    "- **Q1. D1 retention, D7 retention, D28 retention (both classic and rolling)**\n",
    "- **Q2. Daily active users**\n",
    "- **Q3. ARPDAU**\n",
    "- **Q4. Maximum revenue earned by a user**\n",
    "- **Q5. Average sessions/user**\n",
    "- **Q6. Total users in the game**"
   ]
  },
  {
   "cell_type": "markdown",
   "metadata": {},
   "source": [
    "### Q1. D1, D7, and D28 Classic And Rolling Retention\n",
    "- CLASSIC RETENTION"
   ]
  },
  {
   "cell_type": "code",
   "execution_count": 93,
   "metadata": {},
   "outputs": [],
   "source": [
    "data['date'] = date.apply(lambda x: re.search(r'2019-11-[0-9][0-9]?',x).group())\n",
    "data['date'] = data.date.astype(np.str_)"
   ]
  },
  {
   "cell_type": "code",
   "execution_count": 94,
   "metadata": {},
   "outputs": [],
   "source": [
    "list1 = list(data.loc[data.date == '2019-11-01','userID'].unique())"
   ]
  },
  {
   "cell_type": "code",
   "execution_count": 95,
   "metadata": {},
   "outputs": [],
   "source": [
    "count = {}\n",
    "count['d1'] = 0\n",
    "for i in data.loc[data.date == '2019-11-02','userID'].unique():\n",
    "    if(i in list1):\n",
    "        count['d1'] = count['d1'] + 1"
   ]
  },
  {
   "cell_type": "code",
   "execution_count": 96,
   "metadata": {},
   "outputs": [],
   "source": [
    "count['d7'] = 0\n",
    "for i in data.loc[data.date == '2019-11-07','userID'].unique():\n",
    "    if(i in list1):\n",
    "        count['d7'] = count['d7'] + 1"
   ]
  },
  {
   "cell_type": "code",
   "execution_count": 97,
   "metadata": {},
   "outputs": [],
   "source": [
    "count['d28'] = 0\n",
    "for i in data.loc[data.date == '2019-11-28','userID'].unique():\n",
    "    if(i in list1):\n",
    "        count['d28'] = count['d28'] + 1"
   ]
  },
  {
   "cell_type": "code",
   "execution_count": 98,
   "metadata": {},
   "outputs": [],
   "source": [
    "classicRetention = {}\n",
    "classicRetention['d1'] = (7/40)*100\n",
    "classicRetention['d7'] = (3/40)*100\n",
    "classicRetention['d28'] = (1/40)*100"
   ]
  },
  {
   "cell_type": "code",
   "execution_count": 99,
   "metadata": {},
   "outputs": [
    {
     "name": "stdout",
     "output_type": "stream",
     "text": [
      "40\n",
      "7\n",
      "3\n",
      "1\n"
     ]
    }
   ],
   "source": [
    "print(data.loc[data.date == '2019-11-01','userID'].nunique())\n",
    "print(count['d1'])\n",
    "print(count['d7'])\n",
    "print(count['d28'])"
   ]
  },
  {
   "cell_type": "code",
   "execution_count": 100,
   "metadata": {},
   "outputs": [
    {
     "name": "stdout",
     "output_type": "stream",
     "text": [
      "Day 1 Classic Retention:  17.5\n",
      "Day 7 Classic Retention:  7.5\n",
      "Day 28 Classic Retention:  2.5\n"
     ]
    }
   ],
   "source": [
    "print('Day 1 Classic Retention: ',classicRetention['d1'])\n",
    "print('Day 7 Classic Retention: ',classicRetention['d7'])\n",
    "print('Day 28 Classic Retention: ',classicRetention['d28'])"
   ]
  },
  {
   "cell_type": "markdown",
   "metadata": {},
   "source": [
    "- ROLLING RETENTION"
   ]
  },
  {
   "cell_type": "code",
   "execution_count": 101,
   "metadata": {},
   "outputs": [],
   "source": [
    "a = (data.date == '2019-11-01')\n",
    "b = ((data.date == '2019-11-01')|(data.date == '2019-11-02')|(data.date == '2019-11-03')|\n",
    "     (data.date == '2019-11-04')|(data.date == '2019-11-05')|(data.date == '2019-11-06'))\n",
    "c = (data.date == '2019-11-28')\n",
    "count['d1'] = 0\n",
    "for i in data.loc[-a,'userID'].unique():\n",
    "    if(i in list1):\n",
    "        count['d1'] = count['d1'] + 1\n",
    "count['d7'] = 0\n",
    "for i in data.loc[-b,'userID'].unique():\n",
    "    if(i in list1):\n",
    "        count['d7'] = count['d7'] + 1\n",
    "count['d28'] = 0\n",
    "for i in data.loc[c,'userID'].unique():\n",
    "    if(i in list1):\n",
    "        count['d28'] = count['d28'] + 1"
   ]
  },
  {
   "cell_type": "code",
   "execution_count": 102,
   "metadata": {},
   "outputs": [
    {
     "name": "stdout",
     "output_type": "stream",
     "text": [
      "20\n",
      "10\n",
      "1\n"
     ]
    }
   ],
   "source": [
    "print(count['d1'])\n",
    "print(count['d7'])\n",
    "print(count['d28'])"
   ]
  },
  {
   "cell_type": "code",
   "execution_count": 103,
   "metadata": {},
   "outputs": [],
   "source": [
    "rollingRetention = {}\n",
    "rollingRetention['d1'] = (20/40)*100\n",
    "rollingRetention['d7'] = (10/40)*100\n",
    "rollingRetention['d28'] = (1/40)*100"
   ]
  },
  {
   "cell_type": "code",
   "execution_count": 104,
   "metadata": {},
   "outputs": [
    {
     "name": "stdout",
     "output_type": "stream",
     "text": [
      "Day 1 Rolling Retention:  50.0\n",
      "Day 7 Rolling Retention:  25.0\n",
      "Day 28 Rolling Retention:  2.5\n"
     ]
    }
   ],
   "source": [
    "print('Day 1 Rolling Retention: ',rollingRetention['d1'])\n",
    "print('Day 7 Rolling Retention: ',rollingRetention['d7'])\n",
    "print('Day 28 Rolling Retention: ',rollingRetention['d28'])"
   ]
  },
  {
   "cell_type": "markdown",
   "metadata": {},
   "source": [
    "### Q2. Daily Active Users"
   ]
  },
  {
   "cell_type": "code",
   "execution_count": 105,
   "metadata": {},
   "outputs": [
    {
     "name": "stdout",
     "output_type": "stream",
     "text": [
      "Daily Active Users\n",
      "\n",
      "Days \t\t No. of users\n",
      "2019-11-01 \t 40\n",
      "2019-11-02 \t 29\n",
      "2019-11-03 \t 34\n",
      "2019-11-04 \t 22\n",
      "2019-11-05 \t 29\n",
      "2019-11-06 \t 23\n",
      "2019-11-07 \t 25\n",
      "2019-11-08 \t 23\n",
      "2019-11-09 \t 29\n",
      "2019-11-10 \t 32\n",
      "2019-11-11 \t 25\n",
      "2019-11-12 \t 19\n",
      "2019-11-13 \t 23\n",
      "2019-11-14 \t 21\n",
      "2019-11-15 \t 22\n",
      "2019-11-16 \t 17\n",
      "2019-11-17 \t 20\n",
      "2019-11-18 \t 16\n",
      "2019-11-19 \t 16\n",
      "2019-11-20 \t 14\n",
      "2019-11-21 \t 17\n",
      "2019-11-22 \t 36\n",
      "2019-11-23 \t 44\n",
      "2019-11-24 \t 34\n",
      "2019-11-25 \t 36\n",
      "2019-11-26 \t 25\n",
      "2019-11-27 \t 29\n",
      "2019-11-28 \t 38\n",
      "2019-11-29 \t 53\n",
      "2019-11-30 \t 49\n"
     ]
    }
   ],
   "source": [
    "print('Daily Active Users\\n')\n",
    "print('Days','\\t\\t','No. of users')\n",
    "for i in data.loc[:,'date'].unique():\n",
    "    print(i,'\\t',data.loc[data.date == i,'userID'].nunique())"
   ]
  },
  {
   "cell_type": "markdown",
   "metadata": {},
   "source": [
    "### Q3. ARPDAU"
   ]
  },
  {
   "cell_type": "code",
   "execution_count": 106,
   "metadata": {},
   "outputs": [
    {
     "name": "stdout",
     "output_type": "stream",
     "text": [
      "Average Revenue Per Daily Active User\n",
      "\n",
      "Days \t\t ARPDAU \t No. of users \t usdRevenue\n",
      "2019-11-01 \t 18.14 \t\t 40 \t\t 725.46\n",
      "2019-11-02 \t 12.69 \t\t 29 \t\t 367.9\n",
      "2019-11-03 \t 16.14 \t\t 34 \t\t 548.81\n",
      "2019-11-04 \t 13.99 \t\t 22 \t\t 307.81\n",
      "2019-11-05 \t 27.59 \t\t 29 \t\t 800.21\n",
      "2019-11-06 \t 12.63 \t\t 23 \t\t 290.5\n",
      "2019-11-07 \t 12.5 \t\t 25 \t\t 312.57\n",
      "2019-11-08 \t 14.33 \t\t 23 \t\t 329.51\n",
      "2019-11-09 \t 14.54 \t\t 29 \t\t 421.74\n",
      "2019-11-10 \t 14.23 \t\t 32 \t\t 455.4\n",
      "2019-11-11 \t 17.4 \t\t 25 \t\t 434.89\n",
      "2019-11-12 \t 9.8 \t\t 19 \t\t 186.17\n",
      "2019-11-13 \t 10.27 \t\t 23 \t\t 236.32\n",
      "2019-11-14 \t 12.0 \t\t 21 \t\t 251.92\n",
      "2019-11-15 \t 8.86 \t\t 22 \t\t 195.02\n",
      "2019-11-16 \t 12.74 \t\t 17 \t\t 216.53\n",
      "2019-11-17 \t 13.43 \t\t 20 \t\t 268.53\n",
      "2019-11-18 \t 16.42 \t\t 16 \t\t 262.73\n",
      "2019-11-19 \t 10.28 \t\t 16 \t\t 164.46\n",
      "2019-11-20 \t 12.34 \t\t 14 \t\t 172.71\n",
      "2019-11-21 \t 13.62 \t\t 17 \t\t 231.6\n",
      "2019-11-22 \t 5.43 \t\t 36 \t\t 195.52\n",
      "2019-11-23 \t 6.89 \t\t 44 \t\t 303.35\n",
      "2019-11-24 \t 12.17 \t\t 34 \t\t 413.85\n",
      "2019-11-25 \t 6.49 \t\t 36 \t\t 233.71\n",
      "2019-11-26 \t 9.33 \t\t 25 \t\t 233.17\n",
      "2019-11-27 \t 10.12 \t\t 29 \t\t 293.6\n",
      "2019-11-28 \t 11.28 \t\t 38 \t\t 428.65\n",
      "2019-11-29 \t 14.9 \t\t 53 \t\t 789.78\n",
      "2019-11-30 \t 9.86 \t\t 49 \t\t 483.23\n"
     ]
    }
   ],
   "source": [
    "print('Average Revenue Per Daily Active User\\n')\n",
    "print('Days','\\t\\t','ARPDAU','\\t','No. of users','\\t','usdRevenue')\n",
    "for i in data.loc[:,'date'].unique():\n",
    "    a = data.loc[data.date == i,'userID'].nunique()\n",
    "    b = np.round(data.loc[data.date == i,'usdCurrency'].sum(),2)\n",
    "    c = np.round(b/a,2)\n",
    "    print(i,'\\t',c,'\\t\\t',a,'\\t\\t',b)"
   ]
  },
  {
   "cell_type": "code",
   "execution_count": 107,
   "metadata": {},
   "outputs": [
    {
     "data": {
      "text/plain": [
       "725.46"
      ]
     },
     "execution_count": 107,
     "metadata": {},
     "output_type": "execute_result"
    }
   ],
   "source": [
    "data.loc[data.date == '2019-11-01','usdCurrency'].sum()"
   ]
  },
  {
   "cell_type": "markdown",
   "metadata": {},
   "source": [
    "### Q4. Maximum Earned By A User"
   ]
  },
  {
   "cell_type": "code",
   "execution_count": 108,
   "metadata": {},
   "outputs": [],
   "source": [
    "userMax = pd.pivot_table(data,values='usdCurrency',index=['userID'],aggfunc=np.sum)\n",
    "userMax.reset_index(inplace=True)"
   ]
  },
  {
   "cell_type": "code",
   "execution_count": 109,
   "metadata": {},
   "outputs": [
    {
     "data": {
      "text/html": [
       "<div>\n",
       "<style scoped>\n",
       "    .dataframe tbody tr th:only-of-type {\n",
       "        vertical-align: middle;\n",
       "    }\n",
       "\n",
       "    .dataframe tbody tr th {\n",
       "        vertical-align: top;\n",
       "    }\n",
       "\n",
       "    .dataframe thead th {\n",
       "        text-align: right;\n",
       "    }\n",
       "</style>\n",
       "<table border=\"1\" class=\"dataframe\">\n",
       "  <thead>\n",
       "    <tr style=\"text-align: right;\">\n",
       "      <th></th>\n",
       "      <th>userID</th>\n",
       "      <th>usdCurrency</th>\n",
       "    </tr>\n",
       "  </thead>\n",
       "  <tbody>\n",
       "    <tr>\n",
       "      <th>200</th>\n",
       "      <td>104340</td>\n",
       "      <td>549.78</td>\n",
       "    </tr>\n",
       "  </tbody>\n",
       "</table>\n",
       "</div>"
      ],
      "text/plain": [
       "     userID  usdCurrency\n",
       "200  104340       549.78"
      ]
     },
     "execution_count": 109,
     "metadata": {},
     "output_type": "execute_result"
    }
   ],
   "source": [
    "userMax.loc[userMax.usdCurrency == userMax.usdCurrency.max(),:]"
   ]
  },
  {
   "cell_type": "markdown",
   "metadata": {},
   "source": [
    "### Q5. Average Sessions Per User"
   ]
  },
  {
   "cell_type": "code",
   "execution_count": 110,
   "metadata": {},
   "outputs": [
    {
     "name": "stdout",
     "output_type": "stream",
     "text": [
      "75\n"
     ]
    }
   ],
   "source": [
    "count = 0\n",
    "for i in np.sort(data[data.sessionID.isna()]['userID'].unique()):\n",
    "    booloo = data.loc[data.userID == i,'sessionID'].notna().any()\n",
    "    if(booloo != True):\n",
    "        count = count + 1\n",
    "print(count)"
   ]
  },
  {
   "cell_type": "code",
   "execution_count": 111,
   "metadata": {},
   "outputs": [
    {
     "name": "stdout",
     "output_type": "stream",
     "text": [
      "Average Sessions Per User:  1.9942528735632183\n"
     ]
    }
   ],
   "source": [
    "uniqueSessions = count + data.sessionID.nunique()\n",
    "avgSessionsPerUser = uniqueSessions / data.userID.nunique()\n",
    "print('Average Sessions Per User: ', avgSessionsPerUser)"
   ]
  },
  {
   "cell_type": "markdown",
   "metadata": {},
   "source": [
    "### Q6. Total Number Of Users In The Game"
   ]
  },
  {
   "cell_type": "code",
   "execution_count": 44,
   "metadata": {},
   "outputs": [
    {
     "name": "stdout",
     "output_type": "stream",
     "text": [
      "Total Number Of Users In The Game:  522\n"
     ]
    }
   ],
   "source": [
    "print('Total Number Of Users In The Game: ', data.userID.nunique())"
   ]
  },
  {
   "cell_type": "code",
   "execution_count": 45,
   "metadata": {},
   "outputs": [],
   "source": [
    "# data.to_excel('finalAnalysis.xlsx',index=False)"
   ]
  }
 ],
 "metadata": {
  "kernelspec": {
   "display_name": "Python 3",
   "language": "python",
   "name": "python3"
  },
  "language_info": {
   "codemirror_mode": {
    "name": "ipython",
    "version": 3
   },
   "file_extension": ".py",
   "mimetype": "text/x-python",
   "name": "python",
   "nbconvert_exporter": "python",
   "pygments_lexer": "ipython3",
   "version": "3.6.8"
  }
 },
 "nbformat": 4,
 "nbformat_minor": 4
}
